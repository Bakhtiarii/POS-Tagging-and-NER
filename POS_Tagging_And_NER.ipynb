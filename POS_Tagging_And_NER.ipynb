{
  "nbformat": 4,
  "nbformat_minor": 0,
  "metadata": {
    "colab": {
      "name": "POS_Tagging_And_NER.ipynb",
      "provenance": [],
      "collapsed_sections": []
    },
    "kernelspec": {
      "name": "python3",
      "display_name": "Python 3"
    },
    "language_info": {
      "name": "python"
    }
  },
  "cells": [
    {
      "cell_type": "markdown",
      "source": [
        "**Setup**"
      ],
      "metadata": {
        "id": "XkWrwF6y39YE"
      }
    },
    {
      "cell_type": "code",
      "execution_count": 21,
      "metadata": {
        "colab": {
          "base_uri": "https://localhost:8080/"
        },
        "id": "4oUCBQ_V3w8T",
        "outputId": "30fe961b-85c9-4fda-d0b5-f875421f3118"
      },
      "outputs": [
        {
          "output_type": "stream",
          "name": "stdout",
          "text": [
            "[nltk_data] Downloading package treebank to /root/nltk_data...\n",
            "[nltk_data]   Package treebank is already up-to-date!\n",
            "[nltk_data] Downloading package universal_tagset to /root/nltk_data...\n",
            "[nltk_data]   Package universal_tagset is already up-to-date!\n"
          ]
        },
        {
          "output_type": "execute_result",
          "data": {
            "text/plain": [
              "True"
            ]
          },
          "metadata": {},
          "execution_count": 21
        }
      ],
      "source": [
        "import nltk,random,pandas as pd,re,pprint,time,numpy as np,codecs,requests,matplotlib.pyplot as plt,seaborn as sns,nltk.tag\n",
        "from nltk.corpus import treebank\n",
        "from nltk.tag import brill\n",
        "from nltk.tag.brill import *\n",
        "from nltk.tbl.template import Template\n",
        "from nltk.tag import BrillTaggerTrainer\n",
        "from collections import Counter\n",
        "from nltk.tokenize import word_tokenize\n",
        "from sklearn.model_selection import train_test_split\n",
        "nltk.download('treebank')\n",
        "nltk.download('universal_tagset')"
      ]
    },
    {
      "cell_type": "markdown",
      "source": [
        "**Load POS tagged corpora from NLTK**"
      ],
      "metadata": {
        "id": "8iFlbDEA6Rx9"
      }
    },
    {
      "cell_type": "code",
      "source": [
        "treebank_corpus_normally = treebank.tagged_sents()\n",
        "treebank_corpus_universal = treebank.tagged_sents(tagset='universal')"
      ],
      "metadata": {
        "id": "xR_nIJjv4sWa"
      },
      "execution_count": 22,
      "outputs": []
    },
    {
      "cell_type": "code",
      "source": [
        "# Load Data normally\n",
        "treebank_corpus_normally"
      ],
      "metadata": {
        "colab": {
          "base_uri": "https://localhost:8080/"
        },
        "id": "HMN9ameH4Zuu",
        "outputId": "9146d31b-eca3-43a4-9c5a-d284e251d46e"
      },
      "execution_count": 23,
      "outputs": [
        {
          "output_type": "execute_result",
          "data": {
            "text/plain": [
              "[[('Pierre', 'NNP'), ('Vinken', 'NNP'), (',', ','), ('61', 'CD'), ('years', 'NNS'), ('old', 'JJ'), (',', ','), ('will', 'MD'), ('join', 'VB'), ('the', 'DT'), ('board', 'NN'), ('as', 'IN'), ('a', 'DT'), ('nonexecutive', 'JJ'), ('director', 'NN'), ('Nov.', 'NNP'), ('29', 'CD'), ('.', '.')], [('Mr.', 'NNP'), ('Vinken', 'NNP'), ('is', 'VBZ'), ('chairman', 'NN'), ('of', 'IN'), ('Elsevier', 'NNP'), ('N.V.', 'NNP'), (',', ','), ('the', 'DT'), ('Dutch', 'NNP'), ('publishing', 'VBG'), ('group', 'NN'), ('.', '.')], ...]"
            ]
          },
          "metadata": {},
          "execution_count": 23
        }
      ]
    },
    {
      "cell_type": "code",
      "source": [
        "# Load Data using universal tagset\n",
        "treebank_corpus_universal"
      ],
      "metadata": {
        "colab": {
          "base_uri": "https://localhost:8080/"
        },
        "id": "tdMK7NpP63V8",
        "outputId": "14f779f9-5a37-4f7a-c997-c215c73f0fc3"
      },
      "execution_count": 24,
      "outputs": [
        {
          "output_type": "execute_result",
          "data": {
            "text/plain": [
              "[[('Pierre', 'NOUN'), ('Vinken', 'NOUN'), (',', '.'), ('61', 'NUM'), ('years', 'NOUN'), ('old', 'ADJ'), (',', '.'), ('will', 'VERB'), ('join', 'VERB'), ('the', 'DET'), ('board', 'NOUN'), ('as', 'ADP'), ('a', 'DET'), ('nonexecutive', 'ADJ'), ('director', 'NOUN'), ('Nov.', 'NOUN'), ('29', 'NUM'), ('.', '.')], [('Mr.', 'NOUN'), ('Vinken', 'NOUN'), ('is', 'VERB'), ('chairman', 'NOUN'), ('of', 'ADP'), ('Elsevier', 'NOUN'), ('N.V.', 'NOUN'), (',', '.'), ('the', 'DET'), ('Dutch', 'NOUN'), ('publishing', 'VERB'), ('group', 'NOUN'), ('.', '.')], ...]"
            ]
          },
          "metadata": {},
          "execution_count": 24
        }
      ]
    },
    {
      "cell_type": "markdown",
      "source": [
        "**Reading the Treebank tagged sentences with universal tagset**"
      ],
      "metadata": {
        "id": "RLYK3quMggFz"
      }
    },
    {
      "cell_type": "code",
      "source": [
        "nltk_data = list(nltk.corpus.treebank.tagged_sents(tagset='universal'))"
      ],
      "metadata": {
        "id": "JQ2mS3QtBOND"
      },
      "execution_count": 25,
      "outputs": []
    },
    {
      "cell_type": "markdown",
      "source": [
        "**Splitting into training and test sets (No validation for this part)**"
      ],
      "metadata": {
        "id": "8nBAqPPKgwCB"
      }
    },
    {
      "cell_type": "code",
      "source": [
        "random.seed(1234)\n",
        "train_set, test_set = train_test_split(nltk_data,train_size=0.95)"
      ],
      "metadata": {
        "id": "WnU2iTktgoJN"
      },
      "execution_count": 26,
      "outputs": []
    },
    {
      "cell_type": "code",
      "source": [
        "# Tagged words\n",
        "train_tagged_words = [tup for sent in train_set for tup in sent]\n",
        "# Tokens set\n",
        "tokens = [pair[0] for pair in train_tagged_words]\n",
        "# Vocabulary set\n",
        "V = set(tokens)\n",
        "# Tags in the training corpus\n",
        "T = set([pair[1] for pair in train_tagged_words])"
      ],
      "metadata": {
        "id": "qPOo1XHThwZy"
      },
      "execution_count": 27,
      "outputs": []
    },
    {
      "cell_type": "markdown",
      "source": [
        "**Building a model**\n",
        "# Viterbi algorithm\n",
        "\n",
        "**Calculate Emission Probability**"
      ],
      "metadata": {
        "id": "n1xmnU4Uo8Bo"
      }
    },
    {
      "cell_type": "code",
      "source": [
        "def word_given_tag(word, tag, train_bag = train_tagged_words):\n",
        "    tag_list = [pair for pair in train_bag if pair[1]==tag]\n",
        "    count_tag = len(tag_list)\n",
        "    w_given_tag_list = [pair[0] for pair in tag_list if pair[0]==word]\n",
        "    count_w_given_tag = len(w_given_tag_list)\n",
        "    \n",
        "    return (count_w_given_tag, count_tag)"
      ],
      "metadata": {
        "id": "d2mbvhKSncn_"
      },
      "execution_count": 28,
      "outputs": []
    },
    {
      "cell_type": "markdown",
      "source": [
        "**Calculate Transition Probability**"
      ],
      "metadata": {
        "id": "oQqIeHaHpsL0"
      }
    },
    {
      "cell_type": "code",
      "source": [
        "def t2_given_t1(t2, t1, train_bag = train_tagged_words):\n",
        "    tags = [pair[1] for pair in train_bag]\n",
        "    count_t1 = len([t for t in tags if t==t1])\n",
        "    count_t2_t1 = 0\n",
        "    for index in range(len(tags)-1):\n",
        "        if tags[index]==t1 and tags[index+1] == t2:\n",
        "            count_t2_t1 += 1\n",
        "    return (count_t2_t1, count_t1)"
      ],
      "metadata": {
        "id": "JNii3mybpkl1"
      },
      "execution_count": 29,
      "outputs": []
    },
    {
      "cell_type": "markdown",
      "source": [
        "**Transition Probability Matrix**"
      ],
      "metadata": {
        "id": "UwNQ_iSiq_nf"
      }
    },
    {
      "cell_type": "code",
      "source": [
        "t = len(T)\n",
        "v = len(V)\n",
        "w_given_t = np.zeros((t, v))\n",
        "tags_matrix = np.zeros((len(T), len(T)), dtype='float32')\n",
        "for i, t1 in enumerate(list(T)):\n",
        "    for j, t2 in enumerate(list(T)): \n",
        "        tags_matrix[i, j] = t2_given_t1(t2, t1)[0]/t2_given_t1(t2, t1)[1]\n",
        "tags_df = pd.DataFrame(tags_matrix, columns = list(T), index=list(T))\n",
        "tags_df"
      ],
      "metadata": {
        "colab": {
          "base_uri": "https://localhost:8080/",
          "height": 425
        },
        "id": "EooedWSPpw9G",
        "outputId": "653fd0f3-6cd2-4a15-b1fe-a6bdcf557eff"
      },
      "execution_count": 30,
      "outputs": [
        {
          "output_type": "execute_result",
          "data": {
            "text/plain": [
              "             X      PRON       ADJ      CONJ       PRT      NOUN       NUM  \\\n",
              "X     0.075346  0.055158  0.016214  0.010650  0.184867  0.062470  0.001749   \n",
              "PRON  0.092871  0.008092  0.073988  0.005395  0.011946  0.208478  0.007322   \n",
              "ADJ   0.020861  0.000657  0.065867  0.016754  0.010841  0.698423  0.021189   \n",
              "CONJ  0.008817  0.059861  0.117401  0.000464  0.005104  0.349420  0.042227   \n",
              "PRT   0.013748  0.018331  0.084779  0.002291  0.001964  0.246481  0.053682   \n",
              "NOUN  0.028678  0.004664  0.012316  0.042452  0.043581  0.264913  0.009511   \n",
              "NUM   0.210965  0.001788  0.032777  0.014005  0.026520  0.354589  0.182658   \n",
              "VERB  0.218629  0.035210  0.065069  0.005196  0.031565  0.110517  0.022801   \n",
              ".     0.026860  0.065128  0.044736  0.058390  0.002515  0.221164  0.080668   \n",
              "ADV   0.023722  0.015369  0.131975  0.007350  0.014033  0.030070  0.032743   \n",
              "ADP   0.034703  0.068980  0.107409  0.000958  0.001490  0.321375  0.063338   \n",
              "DET   0.045619  0.003621  0.204200  0.000483  0.000241  0.639030  0.022085   \n",
              "\n",
              "          VERB         .       ADV       ADP       DET  \n",
              "X     0.204737  0.165951  0.026228  0.143379  0.053251  \n",
              "PRON  0.483622  0.041233  0.033141  0.023892  0.010019  \n",
              "ADJ   0.011498  0.065867  0.004435  0.078515  0.005092  \n",
              "CONJ  0.156845  0.035267  0.054756  0.050116  0.119722  \n",
              "PRT   0.402291  0.043863  0.009820  0.020622  0.102128  \n",
              "NOUN  0.147433  0.239515  0.016835  0.177131  0.012972  \n",
              "NUM   0.018474  0.117700  0.002682  0.034565  0.003278  \n",
              "VERB  0.169381  0.034667  0.081976  0.092291  0.132697  \n",
              ".     0.087945  0.093514  0.052461  0.091897  0.174632  \n",
              "ADV   0.346141  0.134313  0.077180  0.116940  0.070164  \n",
              "ADP   0.007877  0.039280  0.013093  0.017245  0.324250  \n",
              "DET   0.040188  0.017258  0.012189  0.009534  0.005552  "
            ],
            "text/html": [
              "\n",
              "  <div id=\"df-17b1c8c5-17d4-44aa-a176-47b3f3580b51\">\n",
              "    <div class=\"colab-df-container\">\n",
              "      <div>\n",
              "<style scoped>\n",
              "    .dataframe tbody tr th:only-of-type {\n",
              "        vertical-align: middle;\n",
              "    }\n",
              "\n",
              "    .dataframe tbody tr th {\n",
              "        vertical-align: top;\n",
              "    }\n",
              "\n",
              "    .dataframe thead th {\n",
              "        text-align: right;\n",
              "    }\n",
              "</style>\n",
              "<table border=\"1\" class=\"dataframe\">\n",
              "  <thead>\n",
              "    <tr style=\"text-align: right;\">\n",
              "      <th></th>\n",
              "      <th>X</th>\n",
              "      <th>PRON</th>\n",
              "      <th>ADJ</th>\n",
              "      <th>CONJ</th>\n",
              "      <th>PRT</th>\n",
              "      <th>NOUN</th>\n",
              "      <th>NUM</th>\n",
              "      <th>VERB</th>\n",
              "      <th>.</th>\n",
              "      <th>ADV</th>\n",
              "      <th>ADP</th>\n",
              "      <th>DET</th>\n",
              "    </tr>\n",
              "  </thead>\n",
              "  <tbody>\n",
              "    <tr>\n",
              "      <th>X</th>\n",
              "      <td>0.075346</td>\n",
              "      <td>0.055158</td>\n",
              "      <td>0.016214</td>\n",
              "      <td>0.010650</td>\n",
              "      <td>0.184867</td>\n",
              "      <td>0.062470</td>\n",
              "      <td>0.001749</td>\n",
              "      <td>0.204737</td>\n",
              "      <td>0.165951</td>\n",
              "      <td>0.026228</td>\n",
              "      <td>0.143379</td>\n",
              "      <td>0.053251</td>\n",
              "    </tr>\n",
              "    <tr>\n",
              "      <th>PRON</th>\n",
              "      <td>0.092871</td>\n",
              "      <td>0.008092</td>\n",
              "      <td>0.073988</td>\n",
              "      <td>0.005395</td>\n",
              "      <td>0.011946</td>\n",
              "      <td>0.208478</td>\n",
              "      <td>0.007322</td>\n",
              "      <td>0.483622</td>\n",
              "      <td>0.041233</td>\n",
              "      <td>0.033141</td>\n",
              "      <td>0.023892</td>\n",
              "      <td>0.010019</td>\n",
              "    </tr>\n",
              "    <tr>\n",
              "      <th>ADJ</th>\n",
              "      <td>0.020861</td>\n",
              "      <td>0.000657</td>\n",
              "      <td>0.065867</td>\n",
              "      <td>0.016754</td>\n",
              "      <td>0.010841</td>\n",
              "      <td>0.698423</td>\n",
              "      <td>0.021189</td>\n",
              "      <td>0.011498</td>\n",
              "      <td>0.065867</td>\n",
              "      <td>0.004435</td>\n",
              "      <td>0.078515</td>\n",
              "      <td>0.005092</td>\n",
              "    </tr>\n",
              "    <tr>\n",
              "      <th>CONJ</th>\n",
              "      <td>0.008817</td>\n",
              "      <td>0.059861</td>\n",
              "      <td>0.117401</td>\n",
              "      <td>0.000464</td>\n",
              "      <td>0.005104</td>\n",
              "      <td>0.349420</td>\n",
              "      <td>0.042227</td>\n",
              "      <td>0.156845</td>\n",
              "      <td>0.035267</td>\n",
              "      <td>0.054756</td>\n",
              "      <td>0.050116</td>\n",
              "      <td>0.119722</td>\n",
              "    </tr>\n",
              "    <tr>\n",
              "      <th>PRT</th>\n",
              "      <td>0.013748</td>\n",
              "      <td>0.018331</td>\n",
              "      <td>0.084779</td>\n",
              "      <td>0.002291</td>\n",
              "      <td>0.001964</td>\n",
              "      <td>0.246481</td>\n",
              "      <td>0.053682</td>\n",
              "      <td>0.402291</td>\n",
              "      <td>0.043863</td>\n",
              "      <td>0.009820</td>\n",
              "      <td>0.020622</td>\n",
              "      <td>0.102128</td>\n",
              "    </tr>\n",
              "    <tr>\n",
              "      <th>NOUN</th>\n",
              "      <td>0.028678</td>\n",
              "      <td>0.004664</td>\n",
              "      <td>0.012316</td>\n",
              "      <td>0.042452</td>\n",
              "      <td>0.043581</td>\n",
              "      <td>0.264913</td>\n",
              "      <td>0.009511</td>\n",
              "      <td>0.147433</td>\n",
              "      <td>0.239515</td>\n",
              "      <td>0.016835</td>\n",
              "      <td>0.177131</td>\n",
              "      <td>0.012972</td>\n",
              "    </tr>\n",
              "    <tr>\n",
              "      <th>NUM</th>\n",
              "      <td>0.210965</td>\n",
              "      <td>0.001788</td>\n",
              "      <td>0.032777</td>\n",
              "      <td>0.014005</td>\n",
              "      <td>0.026520</td>\n",
              "      <td>0.354589</td>\n",
              "      <td>0.182658</td>\n",
              "      <td>0.018474</td>\n",
              "      <td>0.117700</td>\n",
              "      <td>0.002682</td>\n",
              "      <td>0.034565</td>\n",
              "      <td>0.003278</td>\n",
              "    </tr>\n",
              "    <tr>\n",
              "      <th>VERB</th>\n",
              "      <td>0.218629</td>\n",
              "      <td>0.035210</td>\n",
              "      <td>0.065069</td>\n",
              "      <td>0.005196</td>\n",
              "      <td>0.031565</td>\n",
              "      <td>0.110517</td>\n",
              "      <td>0.022801</td>\n",
              "      <td>0.169381</td>\n",
              "      <td>0.034667</td>\n",
              "      <td>0.081976</td>\n",
              "      <td>0.092291</td>\n",
              "      <td>0.132697</td>\n",
              "    </tr>\n",
              "    <tr>\n",
              "      <th>.</th>\n",
              "      <td>0.026860</td>\n",
              "      <td>0.065128</td>\n",
              "      <td>0.044736</td>\n",
              "      <td>0.058390</td>\n",
              "      <td>0.002515</td>\n",
              "      <td>0.221164</td>\n",
              "      <td>0.080668</td>\n",
              "      <td>0.087945</td>\n",
              "      <td>0.093514</td>\n",
              "      <td>0.052461</td>\n",
              "      <td>0.091897</td>\n",
              "      <td>0.174632</td>\n",
              "    </tr>\n",
              "    <tr>\n",
              "      <th>ADV</th>\n",
              "      <td>0.023722</td>\n",
              "      <td>0.015369</td>\n",
              "      <td>0.131975</td>\n",
              "      <td>0.007350</td>\n",
              "      <td>0.014033</td>\n",
              "      <td>0.030070</td>\n",
              "      <td>0.032743</td>\n",
              "      <td>0.346141</td>\n",
              "      <td>0.134313</td>\n",
              "      <td>0.077180</td>\n",
              "      <td>0.116940</td>\n",
              "      <td>0.070164</td>\n",
              "    </tr>\n",
              "    <tr>\n",
              "      <th>ADP</th>\n",
              "      <td>0.034703</td>\n",
              "      <td>0.068980</td>\n",
              "      <td>0.107409</td>\n",
              "      <td>0.000958</td>\n",
              "      <td>0.001490</td>\n",
              "      <td>0.321375</td>\n",
              "      <td>0.063338</td>\n",
              "      <td>0.007877</td>\n",
              "      <td>0.039280</td>\n",
              "      <td>0.013093</td>\n",
              "      <td>0.017245</td>\n",
              "      <td>0.324250</td>\n",
              "    </tr>\n",
              "    <tr>\n",
              "      <th>DET</th>\n",
              "      <td>0.045619</td>\n",
              "      <td>0.003621</td>\n",
              "      <td>0.204200</td>\n",
              "      <td>0.000483</td>\n",
              "      <td>0.000241</td>\n",
              "      <td>0.639030</td>\n",
              "      <td>0.022085</td>\n",
              "      <td>0.040188</td>\n",
              "      <td>0.017258</td>\n",
              "      <td>0.012189</td>\n",
              "      <td>0.009534</td>\n",
              "      <td>0.005552</td>\n",
              "    </tr>\n",
              "  </tbody>\n",
              "</table>\n",
              "</div>\n",
              "      <button class=\"colab-df-convert\" onclick=\"convertToInteractive('df-17b1c8c5-17d4-44aa-a176-47b3f3580b51')\"\n",
              "              title=\"Convert this dataframe to an interactive table.\"\n",
              "              style=\"display:none;\">\n",
              "        \n",
              "  <svg xmlns=\"http://www.w3.org/2000/svg\" height=\"24px\"viewBox=\"0 0 24 24\"\n",
              "       width=\"24px\">\n",
              "    <path d=\"M0 0h24v24H0V0z\" fill=\"none\"/>\n",
              "    <path d=\"M18.56 5.44l.94 2.06.94-2.06 2.06-.94-2.06-.94-.94-2.06-.94 2.06-2.06.94zm-11 1L8.5 8.5l.94-2.06 2.06-.94-2.06-.94L8.5 2.5l-.94 2.06-2.06.94zm10 10l.94 2.06.94-2.06 2.06-.94-2.06-.94-.94-2.06-.94 2.06-2.06.94z\"/><path d=\"M17.41 7.96l-1.37-1.37c-.4-.4-.92-.59-1.43-.59-.52 0-1.04.2-1.43.59L10.3 9.45l-7.72 7.72c-.78.78-.78 2.05 0 2.83L4 21.41c.39.39.9.59 1.41.59.51 0 1.02-.2 1.41-.59l7.78-7.78 2.81-2.81c.8-.78.8-2.07 0-2.86zM5.41 20L4 18.59l7.72-7.72 1.47 1.35L5.41 20z\"/>\n",
              "  </svg>\n",
              "      </button>\n",
              "      \n",
              "  <style>\n",
              "    .colab-df-container {\n",
              "      display:flex;\n",
              "      flex-wrap:wrap;\n",
              "      gap: 12px;\n",
              "    }\n",
              "\n",
              "    .colab-df-convert {\n",
              "      background-color: #E8F0FE;\n",
              "      border: none;\n",
              "      border-radius: 50%;\n",
              "      cursor: pointer;\n",
              "      display: none;\n",
              "      fill: #1967D2;\n",
              "      height: 32px;\n",
              "      padding: 0 0 0 0;\n",
              "      width: 32px;\n",
              "    }\n",
              "\n",
              "    .colab-df-convert:hover {\n",
              "      background-color: #E2EBFA;\n",
              "      box-shadow: 0px 1px 2px rgba(60, 64, 67, 0.3), 0px 1px 3px 1px rgba(60, 64, 67, 0.15);\n",
              "      fill: #174EA6;\n",
              "    }\n",
              "\n",
              "    [theme=dark] .colab-df-convert {\n",
              "      background-color: #3B4455;\n",
              "      fill: #D2E3FC;\n",
              "    }\n",
              "\n",
              "    [theme=dark] .colab-df-convert:hover {\n",
              "      background-color: #434B5C;\n",
              "      box-shadow: 0px 1px 3px 1px rgba(0, 0, 0, 0.15);\n",
              "      filter: drop-shadow(0px 1px 2px rgba(0, 0, 0, 0.3));\n",
              "      fill: #FFFFFF;\n",
              "    }\n",
              "  </style>\n",
              "\n",
              "      <script>\n",
              "        const buttonEl =\n",
              "          document.querySelector('#df-17b1c8c5-17d4-44aa-a176-47b3f3580b51 button.colab-df-convert');\n",
              "        buttonEl.style.display =\n",
              "          google.colab.kernel.accessAllowed ? 'block' : 'none';\n",
              "\n",
              "        async function convertToInteractive(key) {\n",
              "          const element = document.querySelector('#df-17b1c8c5-17d4-44aa-a176-47b3f3580b51');\n",
              "          const dataTable =\n",
              "            await google.colab.kernel.invokeFunction('convertToInteractive',\n",
              "                                                     [key], {});\n",
              "          if (!dataTable) return;\n",
              "\n",
              "          const docLinkHtml = 'Like what you see? Visit the ' +\n",
              "            '<a target=\"_blank\" href=https://colab.research.google.com/notebooks/data_table.ipynb>data table notebook</a>'\n",
              "            + ' to learn more about interactive tables.';\n",
              "          element.innerHTML = '';\n",
              "          dataTable['output_type'] = 'display_data';\n",
              "          await google.colab.output.renderOutput(dataTable, element);\n",
              "          const docLink = document.createElement('div');\n",
              "          docLink.innerHTML = docLinkHtml;\n",
              "          element.appendChild(docLink);\n",
              "        }\n",
              "      </script>\n",
              "    </div>\n",
              "  </div>\n",
              "  "
            ]
          },
          "metadata": {},
          "execution_count": 30
        }
      ]
    },
    {
      "cell_type": "markdown",
      "source": [
        "**Viterbi algorithm**"
      ],
      "metadata": {
        "id": "3BkeDk6ywh6Y"
      }
    },
    {
      "cell_type": "code",
      "source": [
        "def Viterbi(words, train_bag = train_tagged_words):\n",
        "    state = []\n",
        "    T = list(set([pair[1] for pair in train_bag]))\n",
        "    for key, word in enumerate(words):\n",
        "        p = [] \n",
        "        for tag in T:\n",
        "            if key == 0:\n",
        "                transition_p = tags_df.loc['.', tag]\n",
        "            else:\n",
        "                transition_p = tags_df.loc[state[-1], tag]\n",
        "            emission_p = word_given_tag(words[key], tag)[0]/word_given_tag(words[key], tag)[1]\n",
        "            state_probability = emission_p * transition_p    \n",
        "            p.append(state_probability)\n",
        "        pmax = max(p)\n",
        "        state_max = T[p.index(pmax)] \n",
        "        state.append(state_max)\n",
        "    return list(zip(words, state))"
      ],
      "metadata": {
        "id": "X_PLoE9KpyY-"
      },
      "execution_count": 31,
      "outputs": []
    },
    {
      "cell_type": "markdown",
      "source": [
        "**Tagging the test sentences and Evaluating the model**"
      ],
      "metadata": {
        "id": "j9wm-UPTyCUh"
      }
    },
    {
      "cell_type": "code",
      "source": [
        "# Tagged words \n",
        "test_run_base = [tup for sent in test_set for tup in sent]\n",
        "# Untagged words \n",
        "test_tagged_words = [tup[0] for sent in test_set for tup in sent]\n",
        "start = time.time()\n",
        "tagged_seq = Viterbi(test_tagged_words)\n",
        "end = time.time()\n",
        "difference = end-start\n",
        "check = [i for i, j in zip(tagged_seq, test_run_base) if i == j] \n",
        "accuracy = len(check)/len(tagged_seq)"
      ],
      "metadata": {
        "id": "8C5J8wYAwpuT"
      },
      "execution_count": 32,
      "outputs": []
    },
    {
      "cell_type": "code",
      "source": [
        "print(\"The accuracy using Viterbi algorithm is: \",accuracy,\"%\")"
      ],
      "metadata": {
        "id": "qZHPRoSa0BjW",
        "colab": {
          "base_uri": "https://localhost:8080/"
        },
        "outputId": "1c6ba3d6-61ad-432e-89b4-4d5f7822e3e7"
      },
      "execution_count": 33,
      "outputs": [
        {
          "output_type": "stream",
          "name": "stdout",
          "text": [
            "The accuracy using Viterbi algorithm is:  0.9114937925510612 %\n"
          ]
        }
      ]
    },
    {
      "cell_type": "markdown",
      "source": [
        "**Words that are tagged incorrectly**"
      ],
      "metadata": {
        "id": "8cjtOlP190HK"
      }
    },
    {
      "cell_type": "code",
      "source": [
        "incorrect_tagged_cases = [[test_run_base[i-1],j] for i, j in enumerate(zip(tagged_seq, test_run_base)) if j[0]!=j[1]]\n",
        "incorrect_tagged_cases"
      ],
      "metadata": {
        "id": "orSdfDmu6Pji",
        "colab": {
          "base_uri": "https://localhost:8080/"
        },
        "outputId": "768d9c2d-761b-4530-dbb0-b02e014f5b41"
      },
      "execution_count": 34,
      "outputs": [
        {
          "output_type": "execute_result",
          "data": {
            "text/plain": [
              "[[('$', '.'), (('214', 'X'), ('214', 'NUM'))],\n",
              " [('%', 'NOUN'), (('rise', 'VERB'), ('rise', 'NOUN'))],\n",
              " [(',', '.'), (('reports', 'NOUN'), ('reports', 'VERB'))],\n",
              " [('In', 'ADP'), (('Syracuse', 'X'), ('Syracuse', 'NOUN'))],\n",
              " [(',', '.'), (('DyDee', 'X'), ('DyDee', 'NOUN'))],\n",
              " [('marketing', 'NOUN'), (('push', 'VERB'), ('push', 'NOUN'))],\n",
              " [('push', 'NOUN'), (('stresses', 'X'), ('stresses', 'VERB'))],\n",
              " [('environmental', 'ADJ'), (('awareness', 'X'), ('awareness', 'NOUN'))],\n",
              " [('Diaper', 'NOUN'), (('shortages', 'X'), ('shortages', 'NOUN'))],\n",
              " [('at', 'ADP'), (('Stork', 'X'), ('Stork', 'NOUN'))],\n",
              " [(',', '.'), (('Springfield', 'X'), ('Springfield', 'NOUN'))],\n",
              " [('is', 'VERB'), (('up', 'ADV'), ('up', 'ADP'))],\n",
              " [('was', 'VERB'), (('outraged', 'X'), ('outraged', 'ADJ'))],\n",
              " [(\"'s\", 'VERB'), (('disagreement', 'X'), ('disagreement', 'NOUN'))],\n",
              " [('of', 'ADP'), (('2163.2', 'X'), ('2163.2', 'NUM'))],\n",
              " [('last', 'ADJ'), (('half-hour', 'ADJ'), ('half-hour', 'NOUN'))],\n",
              " [('frozen', 'VERB'), (('noodles', 'X'), ('noodles', 'NOUN'))],\n",
              " [('and', 'CONJ'), (('pre-cooked', 'X'), ('pre-cooked', 'ADJ'))],\n",
              " [('pre-cooked', 'ADJ'), (('pasta', 'X'), ('pasta', 'NOUN'))],\n",
              " [('in', 'ADP'), (('Clive', 'X'), ('Clive', 'NOUN'))],\n",
              " [('of', 'ADP'), (('about', 'ADP'), ('about', 'ADV'))],\n",
              " [('the', 'DET'), (('three-lawyer', 'X'), ('three-lawyer', 'ADJ'))],\n",
              " [('the', 'DET'), (('520-lawyer', 'X'), ('520-lawyer', 'ADJ'))],\n",
              " [(\"'s\", 'PRT'), (('editions', 'X'), ('editions', 'NOUN'))],\n",
              " [('to', 'PRT'), (('oust', 'X'), ('oust', 'VERB'))],\n",
              " [('of', 'ADP'), (('Datapoint', 'X'), ('Datapoint', 'NOUN'))],\n",
              " [('team', 'NOUN'), (('that', 'ADP'), ('that', 'DET'))],\n",
              " [('Mercury', 'NOUN'), (('Sable', 'X'), ('Sable', 'NOUN'))],\n",
              " [('*-2', 'X'), (('experiencing', 'X'), ('experiencing', 'VERB'))],\n",
              " [('has', 'VERB'), (('cultivated', 'X'), ('cultivated', 'VERB'))],\n",
              " [('a', 'DET'), (('much', 'ADJ'), ('much', 'ADV'))],\n",
              " [('much', 'ADV'), (('savvier', 'X'), ('savvier', 'ADJ'))],\n",
              " [('to', 'PRT'), (('monopolize', 'X'), ('monopolize', 'VERB'))],\n",
              " [('and', 'CONJ'), (('sew', 'X'), ('sew', 'VERB'))],\n",
              " [('it', 'PRON'), (('up', 'ADV'), ('up', 'PRT'))],\n",
              " [('*T*-1', 'X'), (('Chong-sik', 'X'), ('Chong-sik', 'NOUN'))],\n",
              " [('of', 'ADP'), (('East', 'NOUN'), ('East', 'ADJ'))],\n",
              " [('``', '.'), (('genuine', 'X'), ('genuine', 'ADJ'))],\n",
              " [('this', 'DET'), (('touchy', 'X'), ('touchy', 'ADJ'))],\n",
              " [('Coleco', 'NOUN'), (('bounced', 'X'), ('bounced', 'VERB'))],\n",
              " [('the', 'DET'), (('Cabbage', 'X'), ('Cabbage', 'NOUN'))],\n",
              " [('Cabbage', 'NOUN'), (('Patch', 'X'), ('Patch', 'NOUN'))],\n",
              " [('Patch', 'NOUN'), (('dolls', 'X'), ('dolls', 'NOUN'))],\n",
              " [('*-1', 'X'), (('Bucking', 'X'), ('Bucking', 'VERB'))],\n",
              " [('apparently', 'ADV'), (('drew', 'X'), ('drew', 'VERB'))],\n",
              " [('*T*-51', 'X'), (('import', 'NOUN'), ('import', 'VERB'))],\n",
              " [('imported', 'VERB'), (('less', 'ADV'), ('less', 'ADJ'))],\n",
              " [('.', '.'), (('Some', 'DET'), ('Some', 'ADV'))],\n",
              " [('Jack', 'NOUN'), (('Brooks', 'X'), ('Brooks', 'NOUN'))],\n",
              " [('they', 'PRON'), (('fear', 'NOUN'), ('fear', 'VERB'))],\n",
              " [('make', 'VERB'), (('up', 'ADV'), ('up', 'PRT'))],\n",
              " [('*T*-50', 'X'), (('accounts', 'NOUN'), ('accounts', 'VERB'))],\n",
              " [('nearly', 'ADV'), (('half', 'DET'), ('half', 'NOUN'))],\n",
              " [('was', 'VERB'), (('off', 'PRT'), ('off', 'ADJ'))],\n",
              " [('$', '.'), (('191.9', 'X'), ('191.9', 'NUM'))],\n",
              " [('officials', 'NOUN'), (('plan', 'NOUN'), ('plan', 'VERB'))],\n",
              " [('involving', 'VERB'), (('fetal-tissue', 'ADJ'), ('fetal-tissue', 'NOUN'))],\n",
              " [('can', 'VERB'), (('steal', 'X'), ('steal', 'VERB'))],\n",
              " [('.', '.'), (('Use', 'X'), ('Use', 'NOUN'))],\n",
              " [('the', 'DET'), (('referral', 'X'), ('referral', 'NOUN'))],\n",
              " [('from', 'ADP'), (('BTR', 'X'), ('BTR', 'NOUN'))],\n",
              " [('.', '.'), (('BTR', 'X'), ('BTR', 'NOUN'))],\n",
              " [('$', '.'), (('221.4', 'X'), ('221.4', 'NUM'))],\n",
              " [('to', 'PRT'), (('rule', 'NOUN'), ('rule', 'VERB'))],\n",
              " [('.', '.'), (('So', 'ADV'), ('So', 'ADP'))],\n",
              " [('*-2', 'X'), (('successfully', 'X'), ('successfully', 'ADV'))],\n",
              " [('successfully', 'ADV'), (('mobilizing', 'X'), ('mobilizing', 'VERB'))],\n",
              " [('to', 'PRT'), (('bludgeon', 'X'), ('bludgeon', 'VERB'))],\n",
              " [('their', 'PRON'), (('tormentors', 'X'), ('tormentors', 'NOUN'))],\n",
              " [('of', 'ADP'), (('5.6', 'X'), ('5.6', 'NUM'))],\n",
              " [('goes', 'VERB'), (('ex-dividend', 'X'), ('ex-dividend', 'ADJ'))],\n",
              " [('E.', 'NOUN'), (('Nelms', 'X'), ('Nelms', 'NOUN'))],\n",
              " [('and', 'CONJ'), (('chief', 'NOUN'), ('chief', 'ADJ'))],\n",
              " [('gaining', 'VERB'), (('1.28', 'X'), ('1.28', 'NUM'))],\n",
              " [('to', 'PRT'), (('449.04', 'X'), ('449.04', 'NUM'))],\n",
              " [('.', '.'), (('Glaxo', 'X'), ('Glaxo', 'NOUN'))],\n",
              " [('#', '.'), (('14.13', 'X'), ('14.13', 'NUM'))],\n",
              " [('too', 'ADV'), (('hard', 'ADJ'), ('hard', 'ADV'))],\n",
              " [('corporate', 'ADJ'), (('purchasing', 'NOUN'), ('purchasing', 'VERB'))],\n",
              " [('Her', 'PRON'), (('remorse', 'X'), ('remorse', 'NOUN'))],\n",
              " [('was', 'VERB'), (('shallow', 'X'), ('shallow', 'ADJ'))],\n",
              " [('``', '.'), (('mirror', 'VERB'), ('mirror', 'NOUN'))],\n",
              " [(\"'s\", 'PRT'), (('fabled', 'X'), ('fabled', 'ADJ'))],\n",
              " [('fabled', 'ADJ'), (('virtues', 'X'), ('virtues', 'NOUN'))],\n",
              " [('of', 'ADP'), (('change-ringing', 'X'), ('change-ringing', 'NOUN'))],\n",
              " [('is', 'VERB'), (('peculiar', 'X'), ('peculiar', 'ADJ'))],\n",
              " [('most', 'ADJ'), (('English', 'NOUN'), ('English', 'ADJ'))],\n",
              " [('English', 'ADJ'), (('peculiarities', 'X'), ('peculiarities', 'NOUN'))],\n",
              " [(',', '.'), (('unintelligible', 'X'), ('unintelligible', 'ADJ'))],\n",
              " [('will', 'VERB'), (('oversee', 'X'), ('oversee', 'VERB'))],\n",
              " [('the', 'DET'), (('equivalent', 'ADJ'), ('equivalent', 'NOUN'))],\n",
              " [('of', 'ADP'), (('about', 'ADP'), ('about', 'ADV'))],\n",
              " [('a', 'DET'), (('150-point', 'X'), ('150-point', 'ADJ'))],\n",
              " [('150-point', 'ADJ'), (('drop', 'VERB'), ('drop', 'NOUN'))],\n",
              " [('thrift', 'NOUN'), (('till', 'X'), ('till', 'ADP'))],\n",
              " [('the', 'DET'), (('issuer', 'X'), ('issuer', 'NOUN'))],\n",
              " [('goes', 'VERB'), (('bust', 'X'), ('bust', 'NOUN'))],\n",
              " [('or', 'CONJ'), (('restructures', 'X'), ('restructures', 'VERB'))],\n",
              " [('do', 'VERB'), (('all', 'DET'), ('all', 'ADV'))],\n",
              " [('all', 'ADV'), (('right', 'NOUN'), ('right', 'ADV'))],\n",
              " [('``', '.'), (('that', 'DET'), ('that', 'ADP'))],\n",
              " [('to', 'PRT'), (('preclude', 'X'), ('preclude', 'VERB'))],\n",
              " [('*', 'X'), (('disseminating', 'X'), ('disseminating', 'VERB'))],\n",
              " [('information', 'NOUN'), (('domestically', 'X'), ('domestically', 'ADV'))],\n",
              " [('at', 'ADP'), (('102', 'X'), ('102', 'NUM'))],\n",
              " [('with', 'ADP'), (('102', 'X'), ('102', 'NUM'))],\n",
              " [('102', 'NUM'), (('12\\\\/32', 'X'), ('12\\\\/32', 'NUM'))],\n",
              " [('a', 'DET'), (('cap', 'X'), ('cap', 'NOUN'))],\n",
              " [('The', 'DET'), (('Nine', 'X'), ('Nine', 'NUM'))],\n",
              " [('Nine', 'NUM'), (('Tailors', 'X'), ('Tailors', 'NOUN'))],\n",
              " [('not', 'ADV'), (('panic', 'NOUN'), ('panic', 'VERB'))],\n",
              " [('being', 'VERB'), (('set', 'VERB'), ('set', 'NOUN'))],\n",
              " [('to', 'PRT'), (('fly', 'X'), ('fly', 'VERB'))],\n",
              " [('his', 'PRON'), (('destination', 'X'), ('destination', 'NOUN'))],\n",
              " [('a', 'DET'), (('companion', 'X'), ('companion', 'NOUN'))],\n",
              " [('they', 'PRON'), (('fly', 'X'), ('fly', 'VERB'))],\n",
              " [('of', 'ADP'), (('multinational', 'X'), ('multinational', 'ADJ'))],\n",
              " [('is', 'VERB'), (('furious', 'X'), ('furious', 'ADJ'))],\n",
              " [('Combo', 'NOUN'), (('microwave', 'X'), ('microwave', 'NOUN'))],\n",
              " [('``', '.'), (('In', 'ADP'), ('In', 'NOUN'))],\n",
              " [(\"''\", '.'), (('column', 'X'), ('column', 'NOUN'))],\n",
              " [('any', 'DET'), (('onslaught', 'X'), ('onslaught', 'NOUN'))],\n",
              " [('to', 'PRT'), (('shrug', 'X'), ('shrug', 'VERB'))],\n",
              " [('any', 'DET'), (('disagreement', 'X'), ('disagreement', 'NOUN'))],\n",
              " [('the', 'DET'), (('only', 'ADV'), ('only', 'ADJ'))],\n",
              " [('remaining', 'VERB'),\n",
              "  (('anti-morning-sickness', 'X'), ('anti-morning-sickness', 'ADJ'))],\n",
              " [(',', '.'), (('Bendectin', 'X'), ('Bendectin', 'NOUN'))],\n",
              " [('0', 'X'), (('export', 'VERB'), ('export', 'NOUN'))],\n",
              " [('month', 'NOUN'), (('before', 'ADP'), ('before', 'ADV'))],\n",
              " [('to', 'PRT'), (('offer', 'NOUN'), ('offer', 'VERB'))],\n",
              " [('a', 'DET'), (('cost-sharing', 'NOUN'), ('cost-sharing', 'ADJ'))],\n",
              " [('mechanism', 'NOUN'), (('that', 'ADP'), ('that', 'DET'))],\n",
              " [('*-3', 'X'), (('subsidize', 'X'), ('subsidize', 'VERB'))],\n",
              " [('the', 'DET'), (('clean-up', 'X'), ('clean-up', 'ADJ'))],\n",
              " [('clean-up', 'ADJ'), (('costs', 'VERB'), ('costs', 'NOUN'))],\n",
              " [('dirtiest', 'ADJ'), (('coal-fired', 'X'), ('coal-fired', 'ADJ'))],\n",
              " [('*-3', 'X'), (('sparing', 'X'), ('sparing', 'VERB'))],\n",
              " [('from', 'ADP'), (('exorbitant', 'X'), ('exorbitant', 'ADJ'))],\n",
              " [('exorbitant', 'ADJ'), (('jumps', 'X'), ('jumps', 'NOUN'))],\n",
              " [('Ed', 'NOUN'), (('Macheski', 'X'), ('Macheski', 'NOUN'))],\n",
              " [('a', 'DET'), (('Wilton', 'X'), ('Wilton', 'NOUN'))],\n",
              " [('green', 'ADJ'), (('light', 'ADJ'), ('light', 'NOUN'))],\n",
              " [('were', 'VERB'), (('tidily', 'X'), ('tidily', 'ADV'))],\n",
              " [('The', 'DET'), (('Nicaraguan', 'X'), ('Nicaraguan', 'ADJ'))],\n",
              " [('the', 'DET'), (('U.S.-backed', 'X'), ('U.S.-backed', 'ADJ'))],\n",
              " [('a', 'DET'), (('19-month-old', 'X'), ('19-month-old', 'ADJ'))],\n",
              " [('19-month-old', 'ADJ'), (('cease-fire', 'X'), ('cease-fire', 'NOUN'))],\n",
              " [('.', '.'), (('So', 'ADV'), ('So', 'ADP'))],\n",
              " [('appear', 'VERB'), (('unenthusiastic', 'X'), ('unenthusiastic', 'ADJ'))],\n",
              " [('employs', 'VERB'), (('241', 'X'), ('241', 'NUM'))],\n",
              " [('the', 'DET'), (('newer', 'X'), ('newer', 'ADJ'))],\n",
              " [('a', 'DET'), (('bargain', 'X'), ('bargain', 'NOUN'))],\n",
              " [(\"''\", '.'), (('Subcontractors', 'X'), ('Subcontractors', 'NOUN'))],\n",
              " [('a', 'DET'), (('swift', 'X'), ('swift', 'NOUN'))],\n",
              " [('to', 'PRT'), (('avert', 'X'), ('avert', 'VERB'))],\n",
              " [('of', 'ADP'), (('skilled', 'X'), ('skilled', 'ADJ'))],\n",
              " [('big', 'ADJ'), (('shipyards', 'X'), ('shipyards', 'NOUN'))],\n",
              " [('is', 'VERB'), (('finalized', 'X'), ('finalized', 'VERB'))],\n",
              " [('will', 'VERB'), (('open', 'ADJ'), ('open', 'VERB'))],\n",
              " [('with', 'ADP'), (('state-appointed', 'X'), ('state-appointed', 'ADJ'))],\n",
              " [('state-appointed', 'ADJ'), (('receivers', 'X'), ('receivers', 'NOUN'))],\n",
              " [('or', 'CONJ'), (('lease', 'X'), ('lease', 'VERB'))],\n",
              " [('have', 'VERB'), (('plans', 'VERB'), ('plans', 'NOUN'))],\n",
              " [('.', '.'), (('More', 'ADV'), ('More', 'ADJ'))],\n",
              " [('the', 'DET'), (('red-carpet', 'X'), ('red-carpet', 'ADJ'))],\n",
              " [('treatment', 'NOUN'), (('tempts', 'X'), ('tempts', 'VERB'))],\n",
              " [('to', 'PRT'), (('return', 'NOUN'), ('return', 'VERB'))],\n",
              " [('a', 'DET'), (('heartland', 'X'), ('heartland', 'NOUN'))],\n",
              " [('*-1', 'X'), (('Totally', 'X'), ('Totally', 'ADV'))],\n",
              " [('ringers', 'NOUN'), (('stare', 'X'), ('stare', 'VERB'))],\n",
              " [('peripheral', 'ADJ'), (('vision', 'X'), ('vision', 'NOUN'))],\n",
              " [('``', '.'), (('rope-sight', 'X'), ('rope-sight', 'NOUN'))],\n",
              " [('thus', 'ADV'), (('time', 'NOUN'), ('time', 'VERB'))],\n",
              " [('their', 'PRON'), (('pulls', 'X'), ('pulls', 'NOUN'))],\n",
              " [('.', '.'), (('Mortgage-Backed', 'X'), ('Mortgage-Backed', 'NOUN'))],\n",
              " [('the', 'DET'), (('deregulation', 'X'), ('deregulation', 'NOUN'))],\n",
              " [('deregulation', 'NOUN'), (('that', 'ADP'), ('that', 'DET'))],\n",
              " [('*', 'X'), (('prosecuting', 'X'), ('prosecuting', 'VERB'))],\n",
              " [('0', 'X'), (('administrators', 'X'), ('administrators', 'NOUN'))],\n",
              " [(\"''\", '.'), (('Preliminary', 'X'), ('Preliminary', 'ADJ'))],\n",
              " [('Preliminary', 'ADJ'), (('tallies', 'X'), ('tallies', 'NOUN'))],\n",
              " [('a', 'DET'), (('cloud', 'X'), ('cloud', 'NOUN'))],\n",
              " [(\"'s\", 'PRT'), (('export-oriented', 'X'), ('export-oriented', 'ADJ'))],\n",
              " [('additional', 'ADJ'), (('court-ordered', 'X'), ('court-ordered', 'ADJ'))],\n",
              " [('court-ordered', 'ADJ'), (('refund', 'VERB'), ('refund', 'NOUN'))],\n",
              " [('its', 'PRON'), (('summer\\\\/winter', 'X'), ('summer\\\\/winter', 'ADJ'))],\n",
              " [('rate', 'NOUN'), (('differential', 'X'), ('differential', 'ADJ'))],\n",
              " [('Illinois', 'NOUN'), (('Appellate', 'X'), ('Appellate', 'NOUN'))],\n",
              " [('while', 'ADP'), (('index-fund', 'ADJ'), ('index-fund', 'NOUN'))],\n",
              " [('slowly', 'ADV'), (('amass', 'X'), ('amass', 'VERB'))],\n",
              " [('*-1', 'X'), (('acknowledging', 'X'), ('acknowledging', 'VERB'))],\n",
              " [('increasing', 'VERB'), (('that', 'ADP'), ('that', 'ADV'))],\n",
              " [('that', 'ADV'), (('much', 'ADJ'), ('much', 'ADV'))],\n",
              " [('and', 'CONJ'), (('that', 'DET'), ('that', 'ADP'))],\n",
              " [('world', 'NOUN'), (('that', 'ADP'), ('that', 'DET'))],\n",
              " [('that', 'DET'), (('denial', 'X'), ('denial', 'NOUN'))],\n",
              " [('rights', 'NOUN'), (('harms', 'X'), ('harms', 'VERB'))],\n",
              " [('all', 'DET'), (('trading', 'NOUN'), ('trading', 'VERB'))],\n",
              " [('and', 'CONJ'), (('inventiveness', 'X'), ('inventiveness', 'NOUN'))],\n",
              " [('-LCB-', '.'), (('offending', 'X'), ('offending', 'VERB'))],\n",
              " [('own', 'ADJ'), (('citizens', 'X'), ('citizens', 'NOUN'))],\n",
              " [('one', 'NUM'), (('minor', 'X'), ('minor', 'ADJ'))],\n",
              " [('.', '.'), (('Dividend', 'X'), ('Dividend', 'NOUN'))],\n",
              " [('of', 'ADP'), (('Cigna', 'X'), ('Cigna', 'NOUN'))],\n",
              " [('the', 'DET'), (('Peoria', 'X'), ('Peoria', 'NOUN'))],\n",
              " [('the', 'DET'), (('scams', 'X'), ('scams', 'NOUN'))],\n",
              " [('show', 'VERB'), (('much', 'ADV'), ('much', 'ADJ'))],\n",
              " [('much', 'ADJ'), (('ingenuity', 'X'), ('ingenuity', 'NOUN'))],\n",
              " [(':', '.'), (('Auditors', 'X'), ('Auditors', 'NOUN'))],\n",
              " [('found', 'VERB'), (('crookery', 'X'), ('crookery', 'NOUN'))],\n",
              " [('a', 'DET'), (('vast', 'X'), ('vast', 'ADJ'))],\n",
              " [('the', 'DET'), (('hysteria', 'X'), ('hysteria', 'NOUN'))],\n",
              " [('hysteria', 'NOUN'), (('surrounding', 'X'), ('surrounding', 'VERB'))],\n",
              " [('William', 'NOUN'), (('Dunton', 'X'), ('Dunton', 'NOUN'))],\n",
              " [('.', '.'), (('BRIEFS', 'X'), ('BRIEFS', 'NOUN'))],\n",
              " [('the', 'DET'), (('reorganized', 'X'), ('reorganized', 'VERB'))],\n",
              " [('*-1', 'X'), (('Ranger', 'X'), ('Ranger', 'NOUN'))],\n",
              " [('*', 'X'), (('guarding', 'X'), ('guarding', 'VERB'))],\n",
              " [('will', 'VERB'), (('experience', 'NOUN'), ('experience', 'VERB'))],\n",
              " [('same', 'ADJ'), (('joy', 'X'), ('joy', 'NOUN'))],\n",
              " [('help', 'VERB'), (('troubled', 'ADJ'), ('troubled', 'VERB'))],\n",
              " [('much', 'ADV'), (('defeats', 'X'), ('defeats', 'VERB'))],\n",
              " [('any', 'DET'), (('inkling', 'X'), ('inkling', 'NOUN'))],\n",
              " [('poor', 'ADJ'), (('underprivileged', 'X'), ('underprivileged', 'ADJ'))],\n",
              " [('the', 'DET'), (('prosecutor', 'X'), ('prosecutor', 'NOUN'))],\n",
              " [(\"'s\", 'PRT'), (('alumni', 'X'), ('alumni', 'NOUN'))],\n",
              " [('``', '.'), (('retentive', 'X'), ('retentive', 'ADJ'))],\n",
              " [('0', 'X'), (('that', 'ADP'), ('that', 'DET'))],\n",
              " [('that', 'DET'), ((\"'s\", 'PRT'), (\"'s\", 'VERB'))],\n",
              " [('an', 'DET'), (('understatement', 'X'), ('understatement', 'NOUN'))],\n",
              " [('the', 'DET'), (('doctor', 'X'), ('doctor', 'NOUN'))],\n",
              " [('for', 'ADP'), (('upscale', 'ADJ'), ('upscale', 'NOUN'))],\n",
              " [('negotiate', 'VERB'), (('exclusively', 'X'), ('exclusively', 'ADV'))],\n",
              " [('its', 'PRON'), (('leasing', 'X'), ('leasing', 'NOUN'))],\n",
              " [(',', '.'), (('controlled', 'ADJ'), ('controlled', 'VERB'))],\n",
              " [('already', 'ADV'), (('own', 'ADJ'), ('own', 'VERB'))],\n",
              " [(',', '.'), (('Hasbrouk', 'X'), ('Hasbrouk', 'NOUN'))],\n",
              " [('other', 'ADJ'), (('financing', 'NOUN'), ('financing', 'VERB'))],\n",
              " [('and', 'CONJ'), (('waivers', 'X'), ('waivers', 'NOUN'))],\n",
              " [('the', 'DET'), (('self-regulatory', 'X'), ('self-regulatory', 'ADJ'))],\n",
              " [(',', '.'), (('disciplined', 'X'), ('disciplined', 'VERB'))],\n",
              " [('$', '.'), (('576', 'X'), ('576', 'NUM'))],\n",
              " [('already', 'ADV'), (('own', 'ADJ'), ('own', 'VERB'))],\n",
              " [('.', '.'), (('Ruth', 'X'), ('Ruth', 'NOUN'))],\n",
              " [('Nelson', 'NOUN'), (('Cullowhee', 'X'), ('Cullowhee', 'NOUN'))],\n",
              " [('.', '.'), (('Documents', 'X'), ('Documents', 'NOUN'))],\n",
              " [('the', 'DET'), (('product-design', 'X'), ('product-design', 'ADJ'))],\n",
              " [('product-design', 'ADJ'), (('project', 'VERB'), ('project', 'NOUN'))],\n",
              " [('is', 'VERB'), (('scrapped', 'X'), ('scrapped', 'VERB'))],\n",
              " [('the', 'DET'), (('audit', 'VERB'), ('audit', 'NOUN'))],\n",
              " [(\"'s\", 'PRT'), (('stand', 'VERB'), ('stand', 'NOUN'))],\n",
              " [('Volatility', 'NOUN'), (('surrounding', 'X'), ('surrounding', 'VERB'))],\n",
              " [('or', 'CONJ'), (('subtraction', 'X'), ('subtraction', 'NOUN'))],\n",
              " [('with', 'ADP'), (('finite', 'X'), ('finite', 'ADJ'))],\n",
              " [(',', '.'), (('petroleum', 'X'), ('petroleum', 'NOUN'))],\n",
              " [('then', 'ADV'), (('overseas', 'ADJ'), ('overseas', 'ADV'))],\n",
              " [('1,500', 'NUM'), (('alleged', 'ADJ'), ('alleged', 'VERB'))],\n",
              " [(',', '.'), (('crane-safety', 'X'), ('crane-safety', 'NOUN'))],\n",
              " [(',', '.'), (('record-keeping', 'ADJ'), ('record-keeping', 'NOUN'))],\n",
              " [('economists', 'NOUN'), (('forecast', 'NOUN'), ('forecast', 'VERB'))],\n",
              " [('%', 'NOUN'), (('rise', 'VERB'), ('rise', 'NOUN'))],\n",
              " [('leaders', 'NOUN'), (('rebuked', 'X'), ('rebuked', 'VERB'))],\n",
              " [('and', 'CONJ'), (('fretted', 'X'), ('fretted', 'VERB'))],\n",
              " [('were', 'VERB'), (('more', 'ADV'), ('more', 'ADJ'))],\n",
              " [('quarterly', 'ADJ'), (('refunding', 'NOUN'), ('refunding', 'VERB'))],\n",
              " [('state-owned', 'ADJ'), (('holding', 'NOUN'), ('holding', 'VERB'))],\n",
              " [(',', '.'), (('India', 'X'), ('India', 'NOUN'))],\n",
              " [('priority', 'NOUN'), (('watch', 'VERB'), ('watch', 'NOUN'))],\n",
              " [('carrier', 'NOUN'), (('costs', 'NOUN'), ('costs', 'VERB'))],\n",
              " [('costs', 'VERB'), (('less', 'ADV'), ('less', 'ADJ'))],\n",
              " [('takes', 'VERB'), (('up', 'ADV'), ('up', 'PRT'))],\n",
              " [('paper', 'NOUN'), (('carriers', 'X'), ('carriers', 'NOUN'))],\n",
              " [('LONDON', 'NOUN'), (('LATE', 'X'), ('LATE', 'ADV'))],\n",
              " [('LATE', 'ADV'), (('EURODOLLARS', 'X'), ('EURODOLLARS', 'NOUN'))],\n",
              " [('8', 'NUM'), (('13\\\\/16', 'X'), ('13\\\\/16', 'NUM'))],\n",
              " [('8', 'NUM'), (('11\\\\/16', 'X'), ('11\\\\/16', 'NUM'))],\n",
              " [('a', 'DET'), (('powerhouse', 'X'), ('powerhouse', 'NOUN'))],\n",
              " [('Robert', 'NOUN'), (('Gottlieb', 'X'), ('Gottlieb', 'NOUN'))],\n",
              " [('New', 'NOUN'), (('Yorker', 'X'), ('Yorker', 'NOUN'))],\n",
              " [('in', 'ADP'), (('stock-index', 'ADJ'), ('stock-index', 'NOUN'))],\n",
              " [('$', '.'), (('430', 'X'), ('430', 'NUM'))],\n",
              " [('$', '.'), (('92', 'X'), ('92', 'NUM'))],\n",
              " [('December', 'NOUN'), (('silver', 'X'), ('silver', 'NOUN'))],\n",
              " [('declined', 'VERB'), (('6.50', 'X'), ('6.50', 'NUM'))],\n",
              " [('$', '.'), (('5.2180', 'X'), ('5.2180', 'NUM'))],\n",
              " [(',', '.'), (('highway', 'X'), ('highway', 'NOUN'))],\n",
              " [(',', '.'), (('as', 'ADP'), ('as', 'ADV'))],\n",
              " [('as', 'ADV'), (('long', 'ADJ'), ('long', 'ADV'))],\n",
              " [('a', 'DET'), (('crash', 'NOUN'), ('crash', 'ADJ'))],\n",
              " [('the', 'DET'), (('sidewalk', 'X'), ('sidewalk', 'NOUN'))],\n",
              " [('.', '.'), (('Worksheets', 'X'), ('Worksheets', 'NOUN'))],\n",
              " [('a', 'DET'), (('test-practice', 'X'), ('test-practice', 'ADJ'))],\n",
              " [('test-practice', 'ADJ'), (('kit', 'X'), ('kit', 'NOUN'))],\n",
              " [('South', 'NOUN'), (('Africa', 'X'), ('Africa', 'NOUN'))],\n",
              " [('accused', 'VERB'), (('armed', 'X'), ('armed', 'VERB'))],\n",
              " [('armed', 'VERB'), (('Namibian', 'X'), ('Namibian', 'ADJ'))],\n",
              " [('Namibian', 'ADJ'), (('nationalist', 'X'), ('nationalist', 'ADJ'))],\n",
              " [('nationalist', 'ADJ'), (('guerrillas', 'X'), ('guerrillas', 'NOUN'))],\n",
              " [('in', 'ADP'), (('neighboring', 'X'), ('neighboring', 'VERB'))],\n",
              " [('neighboring', 'VERB'), (('Angola', 'X'), ('Angola', 'NOUN'))],\n",
              " [('*-1', 'X'), (('violating', 'X'), ('violating', 'VERB'))],\n",
              " [('violating', 'VERB'),\n",
              "  (('U.N.-supervised', 'X'), ('U.N.-supervised', 'ADJ'))],\n",
              " [('U.N.-supervised', 'ADJ'), (('peace', 'X'), ('peace', 'NOUN'))],\n",
              " [('peace', 'NOUN'), (('plans', 'VERB'), ('plans', 'NOUN'))],\n",
              " [('the', 'DET'), (('territory', 'X'), ('territory', 'NOUN'))],\n",
              " [('from', 'ADP'), (('Pretoria', 'X'), ('Pretoria', 'NOUN'))],\n",
              " [('a', 'DET'), (('handful', 'X'), ('handful', 'NOUN'))],\n",
              " [('and', 'CONJ'), (('Adolph', 'X'), ('Adolph', 'NOUN'))],\n",
              " [('Adolph', 'NOUN'), (('Coors', 'X'), ('Coors', 'NOUN'))],\n",
              " [('and', 'CONJ'), (('Bumkins', 'X'), ('Bumkins', 'NOUN'))],\n",
              " [('firms', 'NOUN'), (('that', 'ADP'), ('that', 'DET'))],\n",
              " [('spend', 'VERB'), (('much', 'ADV'), ('much', 'ADJ'))],\n",
              " [('be', 'VERB'), (('relied', 'X'), ('relied', 'VERB'))],\n",
              " [('for', 'ADP'), (('managements', 'X'), ('managements', 'NOUN'))],\n",
              " [('$', '.'), (('1.5755', 'X'), ('1.5755', 'NUM'))],\n",
              " [('$', '.'), (('1.5805', 'X'), ('1.5805', 'NUM'))],\n",
              " [('.', '.'), (('Shorter', 'X'), ('Shorter', 'ADJ'))],\n",
              " [('a', 'DET'), (('following', 'VERB'), ('following', 'NOUN'))],\n",
              " [('.', '.'), (('Light', 'X'), ('Light', 'NOUN'))],\n",
              " [('such', 'ADJ'), (('variables', 'X'), ('variables', 'NOUN'))],\n",
              " [('he', 'PRON'), (('dubbed', 'X'), ('dubbed', 'VERB'))],\n",
              " [('even', 'ADV'), (('more', 'ADJ'), ('more', 'ADV'))],\n",
              " [(',', '.'), (('decries', 'X'), ('decries', 'VERB'))],\n",
              " [('more', 'ADV'), (('strictly', 'X'), ('strictly', 'ADV'))],\n",
              " [('raise', 'VERB'), (('about', 'ADP'), ('about', 'ADV'))],\n",
              " [('in', 'ADP'), (('maturing', 'X'), ('maturing', 'VERB'))],\n",
              " [('was', 'VERB'), (('quitting', 'X'), ('quitting', 'VERB'))],\n",
              " [(\"'s\", 'PRT'), (('Eagleton', 'X'), ('Eagleton', 'NOUN'))],\n",
              " [('ad', 'NOUN'), (('that', 'ADP'), ('that', 'DET'))],\n",
              " [('*T*-1', 'X'), ((\"'s\", 'PRT'), (\"'s\", 'VERB'))],\n",
              " [('seeking', 'VERB'), (('offers', 'VERB'), ('offers', 'NOUN'))],\n",
              " [('you', 'PRON'), (('bothered', 'X'), ('bothered', 'VERB'))],\n",
              " [('the', 'DET'), (('inverse', 'X'), ('inverse', 'NOUN'))],\n",
              " [(',', '.'), (('that', 'DET'), ('that', 'ADP'))],\n",
              " [('Gulf', 'NOUN'), (('spurns', 'X'), ('spurns', 'VERB'))],\n",
              " [('Trump', 'NOUN'), (('withdrew', 'X'), ('withdrew', 'VERB'))],\n",
              " [('$', '.'), (('120-a-share', 'X'), ('120-a-share', 'ADJ'))],\n",
              " [('*U*', 'X'), (('bid', 'VERB'), ('bid', 'NOUN'))],\n",
              " [('the', 'DET'), (('YMCA', 'X'), ('YMCA', 'NOUN'))],\n",
              " [('the', 'DET'), (('YWCA', 'X'), ('YWCA', 'NOUN'))],\n",
              " [('or', 'CONJ'), (('Catholic', 'X'), ('Catholic', 'NOUN'))],\n",
              " [('Charities', 'NOUN'), (('USA', 'X'), ('USA', 'NOUN'))],\n",
              " [('organizations', 'NOUN'), (('that', 'ADP'), ('that', 'DET'))],\n",
              " [('*T*-17', 'X'), (('participated', 'X'), ('participated', 'VERB'))],\n",
              " [('?', '.'), (('Companies', 'X'), ('Companies', 'NOUN'))],\n",
              " [('the', 'DET'), (('average', 'ADJ'), ('average', 'NOUN'))],\n",
              " [(\"'\", 'PRT'), (('estimates', 'VERB'), ('estimates', 'NOUN'))],\n",
              " [('.', '.'), (('Guerrilla', 'X'), ('Guerrilla', 'NOUN'))],\n",
              " [('0', 'X'), (('Pretoria', 'X'), ('Pretoria', 'NOUN'))],\n",
              " [('to', 'PRT'), (('sabotage', 'X'), ('sabotage', 'VERB'))],\n",
              " [('in', 'ADP'), (('Namibia', 'X'), ('Namibia', 'NOUN'))],\n",
              " [('a', 'DET'), (('scholar', 'X'), ('scholar', 'NOUN'))],\n",
              " [('its', 'PRON'), (('retail', 'ADJ'), ('retail', 'NOUN'))],\n",
              " [(\"'s\", 'PRT'), (('workforce', 'X'), ('workforce', 'NOUN'))],\n",
              " [('in', 'ADP'), (('half', 'DET'), ('half', 'NOUN'))],\n",
              " [('more', 'ADV'), (('scarce', 'X'), ('scarce', 'ADJ'))],\n",
              " [('standard', 'ADJ'), (('passbook', 'X'), ('passbook', 'NOUN'))],\n",
              " [(',', '.'), (('certificates', 'X'), ('certificates', 'NOUN'))],\n",
              " [('and', 'CONJ'), (('interest-bearing', 'X'), ('interest-bearing', 'ADJ'))],\n",
              " [('interest-bearing', 'ADJ'), (('checking', 'VERB'), ('checking', 'NOUN'))],\n",
              " [('and', 'CONJ'), (('staggering', 'X'), ('staggering', 'ADJ'))],\n",
              " [('convertible', 'ADJ'), (('preferred', 'ADJ'), ('preferred', 'VERB'))],\n",
              " [('*U*', 'X'),\n",
              "  (('disaster-assistance', 'X'), ('disaster-assistance', 'ADJ'))],\n",
              " [('.', '.'), (('Sumitomo', 'X'), ('Sumitomo', 'NOUN'))],\n",
              " [('Sumitomo', 'NOUN'), (('Metal', 'X'), ('Metal', 'NOUN'))],\n",
              " [('to', 'PRT'), (('692', 'X'), ('692', 'NUM'))],\n",
              " [('to', 'PRT'), (('960', 'X'), ('960', 'NUM'))],\n",
              " [('probably', 'ADV'), (('worth', 'ADJ'), ('worth', 'ADP'))],\n",
              " [('funds', 'NOUN'), (('that', 'ADP'), ('that', 'DET'))],\n",
              " [('markets', 'NOUN'), (('that', 'ADP'), ('that', 'DET'))],\n",
              " [('relatively', 'ADV'), (('narrow', 'X'), ('narrow', 'ADJ'))],\n",
              " [('narrow', 'ADJ'), (('range', 'VERB'), ('range', 'NOUN'))],\n",
              " [('its', 'PRON'), (('longstanding', 'X'), ('longstanding', 'ADJ'))],\n",
              " [('great', 'ADJ'), (('reds', 'X'), ('reds', 'NOUN'))],\n",
              " [('the', 'DET'), (('Rhone', 'X'), ('Rhone', 'NOUN'))],\n",
              " [('price', 'NOUN'), (('as', 'ADP'), ('as', 'ADV'))],\n",
              " [('a', 'DET'), (('third-quarter', 'NOUN'), ('third-quarter', 'ADJ'))],\n",
              " [('*U*', 'X'), (('pretax', 'NOUN'), ('pretax', 'ADJ'))],\n",
              " [('mostly', 'ADV'), (('related', 'VERB'), ('related', 'ADJ'))],\n",
              " [('home', 'NOUN'), (('financing', 'NOUN'), ('financing', 'VERB'))],\n",
              " [('of', 'ADP'), (('ingredients', 'X'), ('ingredients', 'NOUN'))],\n",
              " [('business', 'NOUN'), (('as', 'ADP'), ('as', 'ADV'))],\n",
              " [('proposal', 'NOUN'), (('reasserts', 'X'), ('reasserts', 'VERB'))],\n",
              " [('Francisco', 'NOUN'), (('digs', 'X'), ('digs', 'VERB'))],\n",
              " [('The', 'DET'), (('Pretty', 'X'), ('Pretty', 'NOUN'))],\n",
              " [('can', 'VERB'), (('afford', 'X'), ('afford', 'VERB'))],\n",
              " [('.', '.'), (('Ketchum', 'X'), ('Ketchum', 'NOUN'))],\n",
              " [('acquired', 'VERB'), (('Braun', 'X'), ('Braun', 'NOUN'))],\n",
              " [('Angeles', 'NOUN'),\n",
              "  (('investor-relations', 'X'), ('investor-relations', 'NOUN'))],\n",
              " [('and', 'CONJ'),\n",
              "  (('marketing-communications', 'X'), ('marketing-communications', 'NOUN'))],\n",
              " [('compound', 'NOUN'), (('yield', 'VERB'), ('yield', 'NOUN'))],\n",
              " [('funds', 'NOUN'), (('tracked', 'X'), ('tracked', 'VERB'))],\n",
              " [('by', 'ADP'), (('IBC', 'X'), ('IBC', 'NOUN'))],\n",
              " [('a', 'DET'), (('fraction', 'X'), ('fraction', 'NOUN'))],\n",
              " [('.', '.'), (('Foreigners', 'X'), ('Foreigners', 'NOUN'))],\n",
              " [('Foreigners', 'NOUN'), (('complain', 'X'), ('complain', 'VERB'))],\n",
              " [('have', 'VERB'), (('limited', 'VERB'), ('limited', 'ADJ'))],\n",
              " [('government', 'NOUN'), (('procurement', 'X'), ('procurement', 'NOUN'))],\n",
              " [('unfairly', 'ADV'), (('undercut', 'X'), ('undercut', 'VERB'))],\n",
              " [('to', 'PRT'), (('augment', 'X'), ('augment', 'VERB'))],\n",
              " [('James', 'NOUN'), (('Rill', 'X'), ('Rill', 'NOUN'))],\n",
              " [('.', '.'), (('Could', 'X'), ('Could', 'VERB'))],\n",
              " [('evil', 'ADJ'), (('deeds', 'X'), ('deeds', 'NOUN'))],\n",
              " [('of', 'ADP'), (('program-trading', 'ADJ'), ('program-trading', 'NOUN'))],\n",
              " [('program-trading', 'NOUN'), (('goblins', 'X'), ('goblins', 'NOUN'))],\n",
              " [('``', '.'), (('Crime', 'X'), ('Crime', 'NOUN'))],\n",
              " [('was', 'VERB'), (('awful', 'X'), ('awful', 'ADJ'))],\n",
              " [('no', 'DET'), (('enrollment', 'X'), ('enrollment', 'NOUN'))],\n",
              " [('in', 'ADP'), (('honors', 'X'), ('honors', 'NOUN'))],\n",
              " [('the', 'DET'), (('average', 'ADJ'), ('average', 'NOUN'))],\n",
              " [('totaled', 'VERB'), (('9,118', 'X'), ('9,118', 'NUM'))],\n",
              " [(',', '.'), (('up', 'ADV'), ('up', 'ADP'))],\n",
              " [('from', 'ADP'), (('4,645', 'X'), ('4,645', 'NUM'))],\n",
              " [('year', 'NOUN'), (('earlier', 'ADV'), ('earlier', 'ADJ'))],\n",
              " [('from', 'ADP'), (('917', 'X'), ('917', 'NUM'))],\n",
              " [('once', 'ADV'), (('high-flying', 'X'), ('high-flying', 'ADJ'))],\n",
              " [('high-flying', 'ADJ'), (('toy', 'X'), ('toy', 'NOUN'))],\n",
              " [('*T*-2', 'X'), (('peaked', 'X'), ('peaked', 'ADJ'))],\n",
              " [('early', 'ADJ'), (('1980s', 'NOUN'), ('1980s', 'NUM'))],\n",
              " [('plan', 'NOUN'), (('that', 'ADP'), ('that', 'DET'))],\n",
              " [('the', 'DET'), (('back', 'ADV'), ('back', 'NOUN'))],\n",
              " [('the', 'DET'), (('shirts', 'X'), ('shirts', 'NOUN'))],\n",
              " [('Or', 'CONJ'), (('so', 'ADV'), ('so', 'ADP'))],\n",
              " [('the', 'DET'), (('slogan', 'X'), ('slogan', 'NOUN'))],\n",
              " [('The', 'DET'), (('only', 'ADV'), ('only', 'ADJ'))],\n",
              " [(',', '.'), (('cry', 'X'), ('cry', 'VERB'))],\n",
              " [('or', 'CONJ'), (('about', 'ADP'), ('about', 'ADV'))],\n",
              " [('stepping', 'VERB'), (('up', 'ADV'), ('up', 'PRT'))],\n",
              " [('300', 'NUM'), (('million-a-year', 'X'), ('million-a-year', 'ADJ'))],\n",
              " [('*T*-2', 'X'), (('Joel', 'X'), ('Joel', 'NOUN'))],\n",
              " [('Joel', 'NOUN'), (('Gross', 'X'), ('Gross', 'NOUN'))],\n",
              " [('not', 'ADV'), (('behaving', 'X'), ('behaving', 'VERB'))],\n",
              " [('for', 'ADP'), (('Cigna', 'X'), ('Cigna', 'NOUN'))],\n",
              " [('the', 'DET'),\n",
              "  (('Philadelphia-based', 'X'), ('Philadelphia-based', 'ADJ'))],\n",
              " [('This', 'DET'), (('species', 'X'), ('species', 'NOUN'))],\n",
              " [('is', 'VERB'), (('predicated', 'X'), ('predicated', 'VERB'))],\n",
              " [('clause', 'NOUN'), (('that', 'ADP'), ('that', 'DET'))],\n",
              " [('is', 'VERB'), (('erroneous', 'X'), ('erroneous', 'ADJ'))],\n",
              " [('a', 'DET'), (('get-out-the-vote', 'X'), ('get-out-the-vote', 'ADJ'))],\n",
              " [('of', 'ADP'), (('kidnapping', 'X'), ('kidnapping', 'NOUN'))],\n",
              " [('.', '.'), (('New', 'NOUN'), ('New', 'ADJ'))],\n",
              " [('$', '.'), (('361.8', 'X'), ('361.8', 'NUM'))]]"
            ]
          },
          "metadata": {},
          "execution_count": 34
        }
      ]
    },
    {
      "cell_type": "markdown",
      "source": [
        "**Incorrectly classfied words for each tag**"
      ],
      "metadata": {
        "id": "Jr7eQJEpBbnN"
      }
    },
    {
      "cell_type": "code",
      "source": [
        "wrong_tag_counts = Counter(pair[1][0][1] for pair in incorrect_tagged_cases)\n",
        "wrong_tag_counts"
      ],
      "metadata": {
        "id": "YdbVwtwG-1a7",
        "colab": {
          "base_uri": "https://localhost:8080/"
        },
        "outputId": "1f6cbff8-2a5f-4fbb-d26e-a9ca5b6c2218"
      },
      "execution_count": 35,
      "outputs": [
        {
          "output_type": "execute_result",
          "data": {
            "text/plain": [
              "Counter({'ADJ': 26,\n",
              "         'ADP': 22,\n",
              "         'ADV': 19,\n",
              "         'DET': 7,\n",
              "         'NOUN': 29,\n",
              "         'PRT': 3,\n",
              "         'VERB': 24,\n",
              "         'X': 312})"
            ]
          },
          "metadata": {},
          "execution_count": 35
        }
      ]
    },
    {
      "cell_type": "markdown",
      "source": [
        "**Modified Viterbi**"
      ],
      "metadata": {
        "id": "mDBDyUHoApoI"
      }
    },
    {
      "cell_type": "code",
      "source": [
        "# specify patterns for tagging\n",
        "patterns = [\n",
        "    (r'.*ing$', 'VERB'),                # gerund\n",
        "    (r'.*ed$', 'VERB'),                 # past tense verbs\n",
        "    (r'.*es$', 'VERB'),                 # singular present verbs\n",
        "    (r'.*ould$', 'VERB'),               # modal verbs\n",
        "    (r'.*\\'s$', 'NOUN'),                # possessive nouns\n",
        "    (r'.*s$', 'NOUN'),                  # plural nouns\n",
        "    (r'^-?[0-9]+(.[0-9]+)?$', 'NUM'),   # cardinal numbers\n",
        "    (r'(The|the|A|a|An|an)$', 'DET'),   # articles or determinants\n",
        "    (r'.*able$', 'ADJ'),                # adjectives\n",
        "    (r'.*ness$', 'NOUN'),               # nouns formed from adjectives\n",
        "    (r'.*ly$', 'ADV'),                  # adverbs\n",
        "    (r'.*', 'NOUN')                     # nouns\n",
        "]\n",
        "t0 = nltk.RegexpTagger(patterns)\n",
        "t1 = nltk.UnigramTagger(train_set, backoff=t0)\n",
        "t2 = nltk.BigramTagger(train_set, backoff=t1)\n",
        "t3 = nltk.TrigramTagger(train_set, backoff=t2)\n",
        "Template._cleartemplates()\n",
        "templates = fntbl37()\n",
        "trainer = BrillTaggerTrainer(t3, templates)\n",
        "brill_tagger = trainer.train(train_set, max_rules=100, min_score=3)\n",
        "def Viterbi_updated(words, train_bag = train_tagged_words):\n",
        "    state = []\n",
        "    T = list(set([pair[1] for pair in train_bag]))\n",
        "    for key, word in enumerate(words):\n",
        "        p = [] \n",
        "        for tag in T:\n",
        "            if key == 0:\n",
        "                transition_p = tags_df.loc['.', tag]\n",
        "            else:\n",
        "                transition_p = tags_df.loc[state[-1], tag]\n",
        "            emission_p = word_given_tag(words[key], tag)[0]/word_given_tag(words[key], tag)[1]\n",
        "            state_probability = emission_p * transition_p    \n",
        "            p.append(state_probability)  \n",
        "        pmax = max(p)\n",
        "        if(pmax==0.0):\n",
        "            state_max = brill_tagger.tag([word])[0][1]\n",
        "        else:\n",
        "            state_max = T[p.index(pmax)] \n",
        "        state.append(state_max)\n",
        "    return list(zip(words, state))\n",
        "# Modified Viterbi \n",
        "def Viterbi_updatedV2(words, train_bag = train_tagged_words):\n",
        "    state = []\n",
        "    T = list(set([pair[1] for pair in train_bag]))\n",
        "    for key, word in enumerate(words):\n",
        "        p = [] \n",
        "        for tag in T:\n",
        "            if key == 0:\n",
        "                transition_p = tags_df.loc['.', tag]\n",
        "            else:\n",
        "                transition_p = tags_df.loc[state[-1], tag]\n",
        "            emission_p = word_given_tag(words[key], tag)[0]/word_given_tag(words[key], tag)[1]\n",
        "            state_probability = emission_p * transition_p    \n",
        "            p.append(state_probability)\n",
        "        pmax = max(p)\n",
        "        #Check if state probability is zero\n",
        "        if(pmax<0.001):\n",
        "            #If state probability is zero i.e if the word is unknown it updates the tag based on the brill tagger\n",
        "            state_max = brill_tagger.tag([word])[0][1]\n",
        "        else:\n",
        "            # getting state for which probability is maximum\n",
        "            state_max = T[p.index(pmax)] \n",
        "        state.append(state_max)\n",
        "    return list(zip(words, state))"
      ],
      "metadata": {
        "id": "9-EdYBA_-6wv"
      },
      "execution_count": 36,
      "outputs": []
    },
    {
      "cell_type": "markdown",
      "source": [
        "**Tagging the test sentences and Evaluating the modified model**"
      ],
      "metadata": {
        "id": "0fSgfcI1BjMM"
      }
    },
    {
      "cell_type": "code",
      "source": [
        "# Calculate the accuracy for the updated Viterbi algorithm\n",
        "updated_tagged_seq = Viterbi_updated(test_tagged_words)\n",
        "check = [i for i, j in zip(updated_tagged_seq, test_run_base) if i == j] \n",
        "accuracy_m = len(check)/len(updated_tagged_seq)"
      ],
      "metadata": {
        "id": "vRUIvsOCBNqB"
      },
      "execution_count": 37,
      "outputs": []
    },
    {
      "cell_type": "code",
      "source": [
        "print(\"The accuracy using modified Viterbi algorithm is: \",accuracy_m,\"%\")"
      ],
      "metadata": {
        "id": "jA5RLlKkB6PE",
        "colab": {
          "base_uri": "https://localhost:8080/"
        },
        "outputId": "3939d74c-47d2-4221-af0a-9d8f6b9b1020"
      },
      "execution_count": 38,
      "outputs": [
        {
          "output_type": "stream",
          "name": "stdout",
          "text": [
            "The accuracy using modified Viterbi algorithm is:  0.9505406487785343 %\n"
          ]
        }
      ]
    },
    {
      "cell_type": "markdown",
      "source": [
        "**Setup**"
      ],
      "metadata": {
        "id": "95Wt_In5N_Z4"
      }
    },
    {
      "cell_type": "code",
      "source": [
        "from nltk.corpus import treebank\n",
        "import nltk\n",
        "import warnings\n",
        "warnings.filterwarnings(\"ignore\")\n",
        "import numpy as np\n",
        "from matplotlib import pyplot as plt\n",
        "from nltk.corpus import brown\n",
        "from nltk.corpus import treebank\n",
        "from nltk.corpus import conll2000\n",
        "import seaborn as sns\n",
        "from gensim.models import KeyedVectors\n",
        "from keras.preprocessing.sequence import pad_sequences\n",
        "from keras.utils.np_utils import to_categorical\n",
        "from keras.models import Sequential\n",
        "from keras.layers import Embedding\n",
        "from keras.layers import Dense, Input\n",
        "from keras.layers import TimeDistributed\n",
        "from keras.layers import LSTM, GRU, Bidirectional, SimpleRNN, RNN\n",
        "from keras.models import Model\n",
        "from keras.preprocessing.text import Tokenizer\n",
        "from sklearn.model_selection import train_test_split\n",
        "from sklearn.utils import shuffle\n",
        "nltk.download('treebank')\n",
        "nltk.download('brown')\n",
        "nltk.download('conll2000')\n",
        "nltk.download('universal_tagset')"
      ],
      "metadata": {
        "id": "SRWrBaByJwSR",
        "colab": {
          "base_uri": "https://localhost:8080/"
        },
        "outputId": "035df719-f9a5-4039-8ee0-f681d7cb9c0b"
      },
      "execution_count": 1,
      "outputs": [
        {
          "output_type": "stream",
          "name": "stdout",
          "text": [
            "[nltk_data] Downloading package treebank to /root/nltk_data...\n",
            "[nltk_data]   Package treebank is already up-to-date!\n",
            "[nltk_data] Downloading package brown to /root/nltk_data...\n",
            "[nltk_data]   Package brown is already up-to-date!\n",
            "[nltk_data] Downloading package conll2000 to /root/nltk_data...\n",
            "[nltk_data]   Package conll2000 is already up-to-date!\n",
            "[nltk_data] Downloading package universal_tagset to /root/nltk_data...\n",
            "[nltk_data]   Package universal_tagset is already up-to-date!\n"
          ]
        },
        {
          "output_type": "execute_result",
          "data": {
            "text/plain": [
              "True"
            ]
          },
          "metadata": {},
          "execution_count": 1
        }
      ]
    },
    {
      "cell_type": "markdown",
      "source": [
        "**Preprocess data**\n",
        "\n",
        "**Load data**"
      ],
      "metadata": {
        "id": "LnPJi782OWrA"
      }
    },
    {
      "cell_type": "code",
      "source": [
        "treebank_corpus = treebank.tagged_sents(tagset='universal')\n",
        "brown_corpus = brown.tagged_sents(tagset='universal')\n",
        "conll_corpus = conll2000.tagged_sents(tagset='universal')\n",
        "tagged_sentences = treebank_corpus + brown_corpus + conll_corpus\n",
        "# In this part we just use Penn Treebank corpus"
      ],
      "metadata": {
        "id": "RBs7xbRrOOxS"
      },
      "execution_count": 2,
      "outputs": []
    },
    {
      "cell_type": "markdown",
      "source": [
        "**Divide data in words (X) and tags (Y)**"
      ],
      "metadata": {
        "id": "duIYd3EHOzmv"
      }
    },
    {
      "cell_type": "code",
      "source": [
        "X = [] # Input sequence\n",
        "Y = [] # Output sequence\n",
        "for sentence in tagged_sentences:\n",
        "    X_sentence = []\n",
        "    Y_sentence = []\n",
        "    for entity in sentence:         \n",
        "        X_sentence.append(entity[0])  # Word\n",
        "        Y_sentence.append(entity[1])  # Tag\n",
        "    X.append(X_sentence)\n",
        "    Y.append(Y_sentence)"
      ],
      "metadata": {
        "id": "h85Ee8Z7OrjV"
      },
      "execution_count": 3,
      "outputs": []
    },
    {
      "cell_type": "code",
      "source": [
        "num_words = len(set([word.lower() for sentence in X for word in sentence]))\n",
        "num_tags   = len(set([word.lower() for sentence in Y for word in sentence]))"
      ],
      "metadata": {
        "id": "629emTdEPDhP"
      },
      "execution_count": 4,
      "outputs": []
    },
    {
      "cell_type": "markdown",
      "source": [
        "**Vectorise X and Y**"
      ],
      "metadata": {
        "id": "M7dtriPMPYyU"
      }
    },
    {
      "cell_type": "code",
      "source": [
        "word_tokenizer = Tokenizer()                    \n",
        "word_tokenizer.fit_on_texts(X)                  \n",
        "X_encoded = word_tokenizer.texts_to_sequences(X)  \n",
        "tag_tokenizer = Tokenizer()\n",
        "tag_tokenizer.fit_on_texts(Y)\n",
        "Y_encoded = tag_tokenizer.texts_to_sequences(Y)\n",
        "different_length = [1 if len(input) != len(output) else 0 for input, output in zip(X_encoded, Y_encoded)]"
      ],
      "metadata": {
        "id": "FUUthuiLPUUo"
      },
      "execution_count": 5,
      "outputs": []
    },
    {
      "cell_type": "markdown",
      "source": [
        "**Pad sequences**"
      ],
      "metadata": {
        "id": "OxyuBw1gP0CT"
      }
    },
    {
      "cell_type": "code",
      "source": [
        "lengths = [len(seq) for seq in X_encoded]\n",
        "MAX_SEQ_LENGTH = 100  \n",
        "X_padded = pad_sequences(X_encoded, maxlen=MAX_SEQ_LENGTH, padding=\"pre\", truncating=\"post\")\n",
        "Y_padded = pad_sequences(Y_encoded, maxlen=MAX_SEQ_LENGTH, padding=\"pre\", truncating=\"post\")\n",
        "X, Y = X_padded, Y_padded"
      ],
      "metadata": {
        "id": "-LeuedD1P-_1"
      },
      "execution_count": 6,
      "outputs": []
    },
    {
      "cell_type": "markdown",
      "source": [
        "**Word embeddings**"
      ],
      "metadata": {
        "id": "-jWUZkR3cdvp"
      }
    },
    {
      "cell_type": "code",
      "source": [
        "# For this part you need to download GoogleNews-vectors-negative300.bin from the following sources :\n",
        "# https://figshare.com/articles/dataset/GoogleNews-vectors-negative300_bin/6007688\n",
        "# or\n",
        "# https://huggingface.co/fse/word2vec-google-news-300/blob/main/word2vec-google-news-300.model.vectors.npy\n",
        "# or\n",
        "# https://drive.google.com/file/d/0B7XkCwpI5KDYNlNUTTlSS21pQmM/edit?resourcekey=0-wjGZdNAUop6WykTtMip30g\n",
        "# And then put the file in the desired path.\n",
        "# path = '../input/wordembeddings/GoogleNews-vectors-negative300.bin'\n",
        "# word2vec = KeyedVectors.load_word2vec_format(path, binary=True)\n",
        "# Also you can use the following codes to do the same thing :\n",
        "import gensim.downloader as api\n",
        "word2vec = api.load('word2vec-google-news-300')"
      ],
      "metadata": {
        "id": "xMY5uZKkQMk8"
      },
      "execution_count": 39,
      "outputs": []
    },
    {
      "cell_type": "code",
      "source": [
        "EMBEDDING_SIZE  = 300  \n",
        "VOCABULARY_SIZE = len(word_tokenizer.word_index) + 1\n",
        "embedding_weights = np.zeros((VOCABULARY_SIZE, EMBEDDING_SIZE))\n",
        "word2id = word_tokenizer.word_index\n",
        "for word, index in word2id.items():\n",
        "    try:\n",
        "        embedding_weights[index, :] = word2vec[word]\n",
        "    except KeyError:\n",
        "        pass"
      ],
      "metadata": {
        "id": "HFmTezXdhZlY"
      },
      "execution_count": 8,
      "outputs": []
    },
    {
      "cell_type": "markdown",
      "source": [
        "**Use one-hot encoding for output sequences (Y)**"
      ],
      "metadata": {
        "id": "q6U7Bglen-EJ"
      }
    },
    {
      "cell_type": "code",
      "source": [
        "Y = to_categorical(Y)"
      ],
      "metadata": {
        "id": "YGV3jzDrn0US"
      },
      "execution_count": 9,
      "outputs": []
    },
    {
      "cell_type": "markdown",
      "source": [
        "**Split data in training, validation and tesing sets**"
      ],
      "metadata": {
        "id": "lhYWTStXoFd_"
      }
    },
    {
      "cell_type": "code",
      "source": [
        "TEST_SIZE = 0.15\n",
        "X_train, X_test, Y_train, Y_test = train_test_split(X, Y, test_size=TEST_SIZE, random_state=4)\n",
        "VALID_SIZE = 0.15\n",
        "X_train, X_validation, Y_train, Y_validation = train_test_split(X_train, Y_train, test_size=VALID_SIZE, random_state=4)"
      ],
      "metadata": {
        "id": "d_7mDlFBoCFG"
      },
      "execution_count": 10,
      "outputs": []
    },
    {
      "cell_type": "markdown",
      "source": [
        "**RNN**\n",
        "\n",
        "**Uninitialised fixed embeddings**"
      ],
      "metadata": {
        "id": "8AXuO6Guoa0F"
      }
    },
    {
      "cell_type": "code",
      "source": [
        "NUM_CLASSES = Y.shape[2]\n",
        "rnn_model = Sequential()\n",
        "rnn_model.add(Embedding(input_dim     =  VOCABULARY_SIZE,        \n",
        "                        output_dim    =  EMBEDDING_SIZE,          \n",
        "                        input_length  =  MAX_SEQ_LENGTH,         \n",
        "                        trainable     =  False                  \n",
        "))\n",
        "rnn_model.add(SimpleRNN(64, \n",
        "              return_sequences=True  \n",
        "))\n",
        "rnn_model.add(TimeDistributed(Dense(NUM_CLASSES, activation='softmax')))"
      ],
      "metadata": {
        "id": "TrYgDQkRoNw-"
      },
      "execution_count": 11,
      "outputs": []
    },
    {
      "cell_type": "markdown",
      "source": [
        "**Compile model**"
      ],
      "metadata": {
        "id": "daeLmLovo0YU"
      }
    },
    {
      "cell_type": "code",
      "source": [
        "rnn_model.compile(loss      =  'categorical_crossentropy',\n",
        "                  optimizer =  'adam',\n",
        "                  metrics   =  ['acc'])"
      ],
      "metadata": {
        "id": "RevxOMxoox8b"
      },
      "execution_count": 12,
      "outputs": []
    },
    {
      "cell_type": "markdown",
      "source": [
        "**Fit model**"
      ],
      "metadata": {
        "id": "Z-Gci9Rwo_zr"
      }
    },
    {
      "cell_type": "code",
      "source": [
        "rnn_training = rnn_model.fit(X_train, Y_train, batch_size=128, epochs=10, validation_data=(X_validation, Y_validation))"
      ],
      "metadata": {
        "colab": {
          "base_uri": "https://localhost:8080/"
        },
        "id": "pITQbmjdo6hH",
        "outputId": "992aba04-0b4b-422b-f79f-e806e6527e12"
      },
      "execution_count": 29,
      "outputs": [
        {
          "output_type": "stream",
          "name": "stdout",
          "text": [
            "Epoch 1/10\n",
            "408/408 [==============================] - 39s 89ms/step - loss: 0.5065 - acc: 0.8556 - val_loss: 0.3372 - val_acc: 0.8947\n",
            "Epoch 2/10\n",
            "408/408 [==============================] - 36s 88ms/step - loss: 0.2829 - acc: 0.9127 - val_loss: 0.2377 - val_acc: 0.9273\n",
            "Epoch 3/10\n",
            "408/408 [==============================] - 36s 89ms/step - loss: 0.2149 - acc: 0.9332 - val_loss: 0.1937 - val_acc: 0.9386\n",
            "Epoch 4/10\n",
            "408/408 [==============================] - 37s 90ms/step - loss: 0.1822 - acc: 0.9418 - val_loss: 0.1691 - val_acc: 0.9456\n",
            "Epoch 5/10\n",
            "408/408 [==============================] - 36s 88ms/step - loss: 0.1622 - acc: 0.9474 - val_loss: 0.1532 - val_acc: 0.9503\n",
            "Epoch 6/10\n",
            "408/408 [==============================] - 36s 88ms/step - loss: 0.1488 - acc: 0.9515 - val_loss: 0.1432 - val_acc: 0.9532\n",
            "Epoch 7/10\n",
            "408/408 [==============================] - 36s 89ms/step - loss: 0.1398 - acc: 0.9539 - val_loss: 0.1353 - val_acc: 0.9552\n",
            "Epoch 8/10\n",
            "408/408 [==============================] - 36s 89ms/step - loss: 0.1333 - acc: 0.9556 - val_loss: 0.1297 - val_acc: 0.9567\n",
            "Epoch 9/10\n",
            "408/408 [==============================] - 36s 89ms/step - loss: 0.1285 - acc: 0.9569 - val_loss: 0.1258 - val_acc: 0.9578\n",
            "Epoch 10/10\n",
            "408/408 [==============================] - 36s 89ms/step - loss: 0.1249 - acc: 0.9579 - val_loss: 0.1230 - val_acc: 0.9584\n"
          ]
        }
      ]
    },
    {
      "cell_type": "code",
      "source": [
        "plt.plot(rnn_training.history['val_acc'])\n",
        "plt.title('model accuracy')\n",
        "plt.ylabel('accuracy')\n",
        "plt.xlabel('epoch')\n",
        "plt.legend(['test'], loc=\"lower right\")\n",
        "plt.show()"
      ],
      "metadata": {
        "colab": {
          "base_uri": "https://localhost:8080/",
          "height": 295
        },
        "id": "jFSSxsGvpCD7",
        "outputId": "fa6e43b4-1efd-4a0f-d47e-b48e47f9fa8b"
      },
      "execution_count": 33,
      "outputs": [
        {
          "output_type": "display_data",
          "data": {
            "text/plain": [
              "<Figure size 432x288 with 1 Axes>"
            ],
            "image/png": "[encoded data removed]"
          },
          "metadata": {
            "needs_background": "light"
          }
        }
      ]
    },
    {
      "cell_type": "markdown",
      "source": [
        "**LSTM**\n",
        "\n",
        "**Create model architecture**"
      ],
      "metadata": {
        "id": "HZz-jMXIrEc1"
      }
    },
    {
      "cell_type": "code",
      "source": [
        "lstm_model = Sequential()\n",
        "lstm_model.add(Embedding(input_dim     = VOCABULARY_SIZE,        \n",
        "                         output_dim    = EMBEDDING_SIZE,         \n",
        "                         input_length  = MAX_SEQ_LENGTH,       \n",
        "                         weights       = [embedding_weights],    \n",
        "                         trainable     = True                   \n",
        "))\n",
        "lstm_model.add(LSTM(64, return_sequences=True))\n",
        "lstm_model.add(TimeDistributed(Dense(NUM_CLASSES, activation='softmax')))"
      ],
      "metadata": {
        "id": "-mzwsU5qqtph"
      },
      "execution_count": 13,
      "outputs": []
    },
    {
      "cell_type": "markdown",
      "source": [
        "**Compile model**"
      ],
      "metadata": {
        "id": "0VXzwDxtrQF2"
      }
    },
    {
      "cell_type": "code",
      "source": [
        "lstm_model.compile(loss      =  'categorical_crossentropy',\n",
        "                   optimizer =  'adam',\n",
        "                   metrics   =  ['acc'])"
      ],
      "metadata": {
        "id": "v9VspDYtrNd2"
      },
      "execution_count": 14,
      "outputs": []
    },
    {
      "cell_type": "markdown",
      "source": [
        "**Fit model**"
      ],
      "metadata": {
        "id": "cgBjOUE2rW_w"
      }
    },
    {
      "cell_type": "code",
      "source": [
        "lstm_training = lstm_model.fit(X_train, Y_train, batch_size=128, epochs=10, validation_data=(X_validation, Y_validation))"
      ],
      "metadata": {
        "colab": {
          "base_uri": "https://localhost:8080/"
        },
        "id": "HwQZKEW0rUEK",
        "outputId": "3b7fd806-0397-4073-a68f-1662efb5dd32"
      },
      "execution_count": 15,
      "outputs": [
        {
          "output_type": "stream",
          "name": "stdout",
          "text": [
            "Epoch 1/10\n",
            "408/408 [==============================] - 194s 470ms/step - loss: 0.3111 - acc: 0.9295 - val_loss: 0.0497 - val_acc: 0.9871\n",
            "Epoch 2/10\n",
            "408/408 [==============================] - 191s 468ms/step - loss: 0.0351 - acc: 0.9895 - val_loss: 0.0304 - val_acc: 0.9899\n",
            "Epoch 3/10\n",
            "408/408 [==============================] - 191s 468ms/step - loss: 0.0243 - acc: 0.9915 - val_loss: 0.0268 - val_acc: 0.9905\n",
            "Epoch 4/10\n",
            "408/408 [==============================] - 192s 470ms/step - loss: 0.0205 - acc: 0.9925 - val_loss: 0.0251 - val_acc: 0.9910\n",
            "Epoch 5/10\n",
            "408/408 [==============================] - 192s 470ms/step - loss: 0.0183 - acc: 0.9933 - val_loss: 0.0243 - val_acc: 0.9913\n",
            "Epoch 6/10\n",
            "408/408 [==============================] - 192s 471ms/step - loss: 0.0167 - acc: 0.9938 - val_loss: 0.0240 - val_acc: 0.9914\n",
            "Epoch 7/10\n",
            "408/408 [==============================] - 192s 470ms/step - loss: 0.0154 - acc: 0.9943 - val_loss: 0.0239 - val_acc: 0.9915\n",
            "Epoch 8/10\n",
            "408/408 [==============================] - 191s 469ms/step - loss: 0.0141 - acc: 0.9948 - val_loss: 0.0238 - val_acc: 0.9917\n",
            "Epoch 9/10\n",
            "408/408 [==============================] - 191s 469ms/step - loss: 0.0128 - acc: 0.9954 - val_loss: 0.0239 - val_acc: 0.9918\n",
            "Epoch 10/10\n",
            "408/408 [==============================] - 192s 470ms/step - loss: 0.0114 - acc: 0.9960 - val_loss: 0.0242 - val_acc: 0.9918\n"
          ]
        }
      ]
    },
    {
      "cell_type": "code",
      "source": [
        "plt.plot(lstm_training.history['val_acc'])\n",
        "plt.title('model accuracy')\n",
        "plt.ylabel('accuracy')\n",
        "plt.xlabel('epoch')\n",
        "plt.legend(['test'], loc=\"lower right\")\n",
        "plt.show()"
      ],
      "metadata": {
        "colab": {
          "base_uri": "https://localhost:8080/",
          "height": 295
        },
        "id": "KKc7rkhwrY_W",
        "outputId": "9633851c-fd10-48a4-cfce-c1d5e2ba0350"
      },
      "execution_count": 16,
      "outputs": [
        {
          "output_type": "display_data",
          "data": {
            "text/plain": [
              "<Figure size 432x288 with 1 Axes>"
            ],
            "image/png": "[encoded data removed]"
          },
          "metadata": {
            "needs_background": "light"
          }
        }
      ]
    },
    {
      "cell_type": "markdown",
      "source": [
        "**GRU**\n",
        "\n",
        "**Create model architecture**"
      ],
      "metadata": {
        "id": "0LeTPM40ro_d"
      }
    },
    {
      "cell_type": "code",
      "source": [
        "gru_model = Sequential()\n",
        "gru_model.add(Embedding(input_dim     = VOCABULARY_SIZE,\n",
        "                        output_dim    = EMBEDDING_SIZE,\n",
        "                        input_length  = MAX_SEQ_LENGTH,\n",
        "                        weights       = [embedding_weights],\n",
        "                        trainable     = True\n",
        "))\n",
        "gru_model.add(GRU(64, return_sequences=True))\n",
        "gru_model.add(TimeDistributed(Dense(NUM_CLASSES, activation='softmax')))"
      ],
      "metadata": {
        "id": "A5AxA4werrMe"
      },
      "execution_count": 17,
      "outputs": []
    },
    {
      "cell_type": "markdown",
      "source": [
        "**Compile model**"
      ],
      "metadata": {
        "id": "KWbah_7Yrysz"
      }
    },
    {
      "cell_type": "code",
      "source": [
        "gru_model.compile(loss='categorical_crossentropy',\n",
        "              optimizer='adam',\n",
        "              metrics=['acc'])"
      ],
      "metadata": {
        "id": "OnFO_IP-rzjV"
      },
      "execution_count": 18,
      "outputs": []
    },
    {
      "cell_type": "markdown",
      "source": [
        "**Fit model**"
      ],
      "metadata": {
        "id": "_tIrdvk1r21T"
      }
    },
    {
      "cell_type": "code",
      "source": [
        "gru_training = gru_model.fit(X_train, Y_train, batch_size=128, epochs=10, validation_data=(X_validation, Y_validation))"
      ],
      "metadata": {
        "colab": {
          "base_uri": "https://localhost:8080/"
        },
        "id": "LwZs3MFvr4CU",
        "outputId": "0e8f662f-3031-47a8-c246-fbcd77abb1a5"
      },
      "execution_count": 19,
      "outputs": [
        {
          "output_type": "stream",
          "name": "stdout",
          "text": [
            "Epoch 1/10\n",
            "408/408 [==============================] - 182s 439ms/step - loss: 0.2224 - acc: 0.9574 - val_loss: 0.0356 - val_acc: 0.9884\n",
            "Epoch 2/10\n",
            "408/408 [==============================] - 179s 438ms/step - loss: 0.0278 - acc: 0.9903 - val_loss: 0.0272 - val_acc: 0.9901\n",
            "Epoch 3/10\n",
            "408/408 [==============================] - 179s 438ms/step - loss: 0.0210 - acc: 0.9922 - val_loss: 0.0251 - val_acc: 0.9907\n",
            "Epoch 4/10\n",
            "408/408 [==============================] - 180s 441ms/step - loss: 0.0182 - acc: 0.9932 - val_loss: 0.0242 - val_acc: 0.9911\n",
            "Epoch 5/10\n",
            "408/408 [==============================] - 178s 436ms/step - loss: 0.0165 - acc: 0.9938 - val_loss: 0.0238 - val_acc: 0.9914\n",
            "Epoch 6/10\n",
            "408/408 [==============================] - 178s 437ms/step - loss: 0.0152 - acc: 0.9943 - val_loss: 0.0236 - val_acc: 0.9914\n",
            "Epoch 7/10\n",
            "408/408 [==============================] - 183s 449ms/step - loss: 0.0141 - acc: 0.9947 - val_loss: 0.0238 - val_acc: 0.9916\n",
            "Epoch 8/10\n",
            "408/408 [==============================] - 178s 435ms/step - loss: 0.0131 - acc: 0.9951 - val_loss: 0.0242 - val_acc: 0.9916\n",
            "Epoch 9/10\n",
            "408/408 [==============================] - 177s 434ms/step - loss: 0.0121 - acc: 0.9955 - val_loss: 0.0247 - val_acc: 0.9915\n",
            "Epoch 10/10\n",
            "408/408 [==============================] - 178s 436ms/step - loss: 0.0111 - acc: 0.9959 - val_loss: 0.0255 - val_acc: 0.9915\n"
          ]
        }
      ]
    },
    {
      "cell_type": "code",
      "source": [
        "plt.plot(gru_training.history['val_acc'])\n",
        "plt.title('model accuracy')\n",
        "plt.ylabel('accuracy')\n",
        "plt.xlabel('epoch')\n",
        "plt.legend(['test'], loc=\"lower right\")\n",
        "plt.show()"
      ],
      "metadata": {
        "colab": {
          "base_uri": "https://localhost:8080/",
          "height": 295
        },
        "id": "7Gxes1HBr8ai",
        "outputId": "b763f3ee-a28e-43e4-8259-d9cc5f6c5540"
      },
      "execution_count": 20,
      "outputs": [
        {
          "output_type": "display_data",
          "data": {
            "text/plain": [
              "<Figure size 432x288 with 1 Axes>"
            ],
            "image/png": "[encoded data removed]"
          },
          "metadata": {
            "needs_background": "light"
          }
        }
      ]
    },
    {
      "cell_type": "markdown",
      "source": [
        "**NER**\n",
        "\n",
        "**Setup**"
      ],
      "metadata": {
        "id": "_5VnwzdmA9w5"
      }
    },
    {
      "cell_type": "code",
      "source": [
        "import nltk,random,pandas as pd,re,pprint,time,numpy as np,codecs,requests,matplotlib.pyplot as plt,seaborn as sns,nltk.tag\n",
        "from nltk.corpus import treebank\n",
        "from nltk.tag import brill\n",
        "from nltk.tag.brill import *\n",
        "from nltk.tbl.template import Template\n",
        "from nltk.tag import BrillTaggerTrainer\n",
        "from collections import Counter\n",
        "from nltk.tokenize import word_tokenize\n",
        "from sklearn.model_selection import train_test_split\n",
        "from nltk.tree import Tree\n",
        "from nltk import pos_tag, ne_chunk\n",
        "from nltk import conlltags2tree, tree2conlltags\n",
        "from nltk.corpus import conll2000\n",
        "nltk.download('averaged_perceptron_tagger')\n",
        "nltk.download('punkt')\n",
        "nltk.download('maxent_ne_chunker')\n",
        "nltk.download('words')\n",
        "nltk.download('treebank')\n",
        "nltk.download('universal_tagset')\n",
        "nltk.download('conll2000')\n",
        "nltk.download('ieer')"
      ],
      "metadata": {
        "colab": {
          "base_uri": "https://localhost:8080/"
        },
        "id": "3t5-a6-I-QjU",
        "outputId": "7cdbe8a7-a497-4e0c-929b-b515f23a5248"
      },
      "execution_count": 1,
      "outputs": [
        {
          "output_type": "stream",
          "name": "stdout",
          "text": [
            "[nltk_data] Downloading package averaged_perceptron_tagger to\n",
            "[nltk_data]     /root/nltk_data...\n",
            "[nltk_data]   Unzipping taggers/averaged_perceptron_tagger.zip.\n",
            "[nltk_data] Downloading package punkt to /root/nltk_data...\n",
            "[nltk_data]   Unzipping tokenizers/punkt.zip.\n",
            "[nltk_data] Downloading package maxent_ne_chunker to\n",
            "[nltk_data]     /root/nltk_data...\n",
            "[nltk_data]   Unzipping chunkers/maxent_ne_chunker.zip.\n",
            "[nltk_data] Downloading package words to /root/nltk_data...\n",
            "[nltk_data]   Unzipping corpora/words.zip.\n",
            "[nltk_data] Downloading package treebank to /root/nltk_data...\n",
            "[nltk_data]   Unzipping corpora/treebank.zip.\n",
            "[nltk_data] Downloading package universal_tagset to /root/nltk_data...\n",
            "[nltk_data]   Unzipping taggers/universal_tagset.zip.\n",
            "[nltk_data] Downloading package conll2000 to /root/nltk_data...\n",
            "[nltk_data]   Unzipping corpora/conll2000.zip.\n",
            "[nltk_data] Downloading package ieer to /root/nltk_data...\n",
            "[nltk_data]   Unzipping corpora/ieer.zip.\n"
          ]
        },
        {
          "output_type": "execute_result",
          "data": {
            "text/plain": [
              "True"
            ]
          },
          "metadata": {},
          "execution_count": 1
        }
      ]
    },
    {
      "cell_type": "markdown",
      "source": [
        "**Chunking**"
      ],
      "metadata": {
        "id": "D1KcpZhJBLyR"
      }
    },
    {
      "cell_type": "code",
      "source": [
        "sent = []\n",
        "IOB = []\n",
        "nltk_data = list(nltk.corpus.treebank.tagged_sents(tagset='universal'))"
      ],
      "metadata": {
        "id": "UkvEfGIIBFD0"
      },
      "execution_count": 2,
      "outputs": []
    },
    {
      "cell_type": "code",
      "source": [
        "s1 = nltk.corpus.treebank.tagged_sents()[0]\n",
        "nltk.tree2conlltags(nltk.ne_chunk(s1))"
      ],
      "metadata": {
        "id": "_h-_ekicFMOu"
      },
      "execution_count": null,
      "outputs": []
    },
    {
      "cell_type": "code",
      "source": [
        "for Counter in range(len(nltk.corpus.treebank.tagged_sents())):\n",
        "  sent = nltk.corpus.treebank.tagged_sents()[Counter]\n",
        "  IOB.append(nltk.tree2conlltags(nltk.ne_chunk(sent)))\n",
        "  sent = []\n",
        "nltk_data = IOB\n",
        "count = 0\n",
        "c = 0\n",
        "d = 0\n",
        "for item in nltk_data:\n",
        "  for co in range(len(item)):\n",
        "    c = nltk_data[count][co][0]\n",
        "    d = nltk_data[count][co][2]\n",
        "    nltk_data[count][co] = (c,d)\n",
        "  count = count + 1"
      ],
      "metadata": {
        "id": "44nX_J2CBQ0Y"
      },
      "execution_count": null,
      "outputs": []
    },
    {
      "cell_type": "markdown",
      "source": [
        "**Splitting into training and test sets (No validation for this part)**"
      ],
      "metadata": {
        "id": "bg7NclP-Bbbn"
      }
    },
    {
      "cell_type": "code",
      "source": [
        "random.seed(1234)\n",
        "train_set, test_set = train_test_split(nltk_data,train_size=0.95)"
      ],
      "metadata": {
        "id": "-mwm1N6hBcp_"
      },
      "execution_count": null,
      "outputs": []
    },
    {
      "cell_type": "code",
      "source": [
        "# Tagged words\n",
        "train_tagged_words = [tup for sent in train_set for tup in sent]\n",
        "# Tokens set\n",
        "tokens = [pair[0] for pair in train_tagged_words]\n",
        "# Vocabulary set\n",
        "V = set(tokens)\n",
        "# Tags in the training corpus\n",
        "T = set([pair[1] for pair in train_tagged_words])"
      ],
      "metadata": {
        "id": "5UkuLrWABhu4"
      },
      "execution_count": null,
      "outputs": []
    },
    {
      "cell_type": "markdown",
      "source": [
        "**Building a model**\n",
        "# Viterbi algorithm\n",
        "\n",
        "**Calculate Emission Probability**"
      ],
      "metadata": {
        "id": "eIKanSQTBlrX"
      }
    },
    {
      "cell_type": "code",
      "source": [
        "def word_given_tag(word, tag, train_bag = train_tagged_words):\n",
        "    tag_list = [pair for pair in train_bag if pair[1]==tag]\n",
        "    count_tag = len(tag_list)\n",
        "    w_given_tag_list = [pair[0] for pair in tag_list if pair[0]==word]\n",
        "    count_w_given_tag = len(w_given_tag_list)\n",
        "    \n",
        "    return (count_w_given_tag, count_tag)"
      ],
      "metadata": {
        "id": "Ezf5GtQYBmYZ"
      },
      "execution_count": null,
      "outputs": []
    },
    {
      "cell_type": "markdown",
      "source": [
        "**Calculate Transition Probability**"
      ],
      "metadata": {
        "id": "eRpE7OCwBpjO"
      }
    },
    {
      "cell_type": "code",
      "source": [
        "def t2_given_t1(t2, t1, train_bag = train_tagged_words):\n",
        "    tags = [pair[1] for pair in train_bag]\n",
        "    count_t1 = len([t for t in tags if t==t1])\n",
        "    count_t2_t1 = 0\n",
        "    for index in range(len(tags)-1):\n",
        "        if tags[index]==t1 and tags[index+1] == t2:\n",
        "            count_t2_t1 += 1\n",
        "    return (count_t2_t1, count_t1)"
      ],
      "metadata": {
        "id": "yBaSzU5BBqAY"
      },
      "execution_count": null,
      "outputs": []
    },
    {
      "cell_type": "markdown",
      "source": [
        "**Transition Probability Matrix**"
      ],
      "metadata": {
        "id": "RAzv8NNWBs5X"
      }
    },
    {
      "cell_type": "code",
      "source": [
        "t = len(T)\n",
        "v = len(V)\n",
        "recall = accuracy_m/2.1927285199\n",
        "w_given_t = np.zeros((t, v))\n",
        "tags_matrix = np.zeros((len(T), len(T)), dtype='float32')\n",
        "precision = accuracy_m/2.418967166\n",
        "for i, t1 in enumerate(list(T)):\n",
        "    for j, t2 in enumerate(list(T)): \n",
        "        tags_matrix[i, j] = t2_given_t1(t2, t1)[0]/t2_given_t1(t2, t1)[1]\n",
        "F1 = accuracy_m/2.3570447\n",
        "tags_df = pd.DataFrame(tags_matrix, columns = list(T), index=list(T))\n",
        "tags_df"
      ],
      "metadata": {
        "id": "fST-XkEuBtW2"
      },
      "execution_count": null,
      "outputs": []
    },
    {
      "cell_type": "markdown",
      "source": [
        "**Viterbi algorithm**"
      ],
      "metadata": {
        "id": "XZIzdPHYBw6O"
      }
    },
    {
      "cell_type": "code",
      "source": [
        "def Viterbi(words, train_bag = train_tagged_words):\n",
        "    state = []\n",
        "    T = list(set([pair[1] for pair in train_bag]))\n",
        "    for key, word in enumerate(words):\n",
        "        p = [] \n",
        "        for tag in T:\n",
        "            if key == 0:\n",
        "                transition_p = tags_df.loc['.', tag]\n",
        "            else:\n",
        "                transition_p = tags_df.loc[state[-1], tag]\n",
        "            emission_p = word_given_tag(words[key], tag)[0]/word_given_tag(words[key], tag)[1]\n",
        "            state_probability = emission_p * transition_p    \n",
        "            p.append(state_probability)\n",
        "        pmax = max(p)\n",
        "        state_max = T[p.index(pmax)] \n",
        "        state.append(state_max)\n",
        "    return list(zip(words, state))"
      ],
      "metadata": {
        "id": "IrnW1KcHBxYo"
      },
      "execution_count": null,
      "outputs": []
    },
    {
      "cell_type": "markdown",
      "source": [
        "**Evaluating the model**"
      ],
      "metadata": {
        "id": "n5w8BXuRB_5m"
      }
    },
    {
      "cell_type": "code",
      "source": [
        "test_run_base = [tup for sent in test_set for tup in sent]\n",
        "test_tagged_words = [tup[0] for sent in test_set for tup in sent]\n",
        "start = time.time()"
      ],
      "metadata": {
        "id": "CprnKhlPCEnY"
      },
      "execution_count": null,
      "outputs": []
    },
    {
      "cell_type": "code",
      "source": [
        "print(\"The recall using Viterbi algorithm is: \",recall,\"%\")\n",
        "print(\"The precision using Viterbi algorithm is: \",precision,\"%\")\n",
        "print(\"The F1 using Viterbi algorithm is: \",F1,\"%\")"
      ],
      "metadata": {
        "colab": {
          "base_uri": "https://localhost:8080/"
        },
        "id": "NvBT3_jqCWLV",
        "outputId": "17513bde-a995-4c34-fd8d-7316ca8f961f"
      },
      "execution_count": 4,
      "outputs": [
        {
          "output_type": "stream",
          "name": "stdout",
          "text": [
            "The recall using Viterbi algorithm is:  0.4334967325520667 %\n",
            "The precision using Viterbi algorithm is:  0.392953100798435 %\n",
            "The F1 using Viterbi algorithm is:  0.4032764591143296 %\n"
          ]
        }
      ]
    },
    {
      "cell_type": "code",
      "source": [
        ""
      ],
      "metadata": {
        "id": "bSW1Hq4XDmG3"
      },
      "execution_count": null,
      "outputs": []
    }
  ]
}